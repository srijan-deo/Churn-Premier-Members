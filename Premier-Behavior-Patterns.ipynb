{
 "cells": [
  {
   "cell_type": "code",
   "id": "initial_id",
   "metadata": {
    "collapsed": true,
    "ExecuteTime": {
     "end_time": "2025-06-17T15:38:33.744947Z",
     "start_time": "2025-06-17T15:38:33.587566Z"
    }
   },
   "source": [
    "from os import rename\n",
    "\n",
    "import pandas as pd\n",
    "import numpy as np\n",
    "import warnings\n",
    "\n",
    "pd.options.display.max_columns = None\n",
    "warnings.filterwarnings(\"ignore\")\n",
    "\n",
    "from google.cloud import bigquery\n",
    "from google.cloud import bigquery_storage\n",
    "creds = \"/Users/srdeo/OneDrive - Copart, Inc/secrets/cprtpr-datastewards-sp1-614d7e297848 (1).json\"\n",
    "client = bigquery.Client.from_service_account_json(json_credentials_path=creds)\n",
    "bqstorageclient = bigquery_storage.BigQueryReadClient(credentials=creds)\n",
    "from IPython.core.interactiveshell import InteractiveShell\n",
    "InteractiveShell.ast_node_interactivity = \"all\""
   ],
   "outputs": [],
   "execution_count": 4
  },
  {
   "metadata": {},
   "cell_type": "markdown",
   "source": "### Q1. Total number of Premier members in Copart?",
   "id": "9c21eb290d00c895"
  },
  {
   "metadata": {
    "ExecuteTime": {
     "end_time": "2025-06-16T18:32:52.640513Z",
     "start_time": "2025-06-16T18:30:28.712405Z"
    }
   },
   "cell_type": "code",
   "source": [
    "query1 = \"\"\"\n",
    "select mbr_nbr, owner_mbr_nbr, mbr_country_desc, mbr_mbrshp_type_cd, mbr_status\n",
    "from `cprtpr-dataplatform-sp1`.usviews.v_us_member_fact\n",
    "\"\"\"\n",
    "\n",
    "data_members_2025 = client.query(query1).to_dataframe()"
   ],
   "id": "8371996054cce82",
   "outputs": [],
   "execution_count": 141
  },
  {
   "metadata": {
    "ExecuteTime": {
     "end_time": "2025-06-16T18:33:28.776191Z",
     "start_time": "2025-06-16T18:33:28.305123Z"
    }
   },
   "cell_type": "code",
   "source": [
    "data_members_2025.head()\n",
    "data_members_2025.shape\n",
    "print(data_members_2025.isnull().sum())\n",
    "data_members_2025['mbr_mbrshp_type_cd'].value_counts()"
   ],
   "id": "ff6006993b6177a9",
   "outputs": [
    {
     "data": {
      "text/plain": [
       "               mbr_nbr        owner_mbr_nbr mbr_country_desc  \\\n",
       "0  1241569915757772800  1241569915757772800             None   \n",
       "1  1240848294738911232  1240848294738911232             None   \n",
       "2               464285               464285    UNITED STATES   \n",
       "3  1241385582340190208  1241385582340190208             None   \n",
       "4  1240839219760304128  1240839219760304128             None   \n",
       "\n",
       "  mbr_mbrshp_type_cd mbr_status  \n",
       "0              GUEST       None  \n",
       "1              GUEST       None  \n",
       "2              GUEST          I  \n",
       "3              GUEST       None  \n",
       "4              GUEST       None  "
      ],
      "text/html": [
       "<div>\n",
       "<style scoped>\n",
       "    .dataframe tbody tr th:only-of-type {\n",
       "        vertical-align: middle;\n",
       "    }\n",
       "\n",
       "    .dataframe tbody tr th {\n",
       "        vertical-align: top;\n",
       "    }\n",
       "\n",
       "    .dataframe thead th {\n",
       "        text-align: right;\n",
       "    }\n",
       "</style>\n",
       "<table border=\"1\" class=\"dataframe\">\n",
       "  <thead>\n",
       "    <tr style=\"text-align: right;\">\n",
       "      <th></th>\n",
       "      <th>mbr_nbr</th>\n",
       "      <th>owner_mbr_nbr</th>\n",
       "      <th>mbr_country_desc</th>\n",
       "      <th>mbr_mbrshp_type_cd</th>\n",
       "      <th>mbr_status</th>\n",
       "    </tr>\n",
       "  </thead>\n",
       "  <tbody>\n",
       "    <tr>\n",
       "      <th>0</th>\n",
       "      <td>1241569915757772800</td>\n",
       "      <td>1241569915757772800</td>\n",
       "      <td>None</td>\n",
       "      <td>GUEST</td>\n",
       "      <td>None</td>\n",
       "    </tr>\n",
       "    <tr>\n",
       "      <th>1</th>\n",
       "      <td>1240848294738911232</td>\n",
       "      <td>1240848294738911232</td>\n",
       "      <td>None</td>\n",
       "      <td>GUEST</td>\n",
       "      <td>None</td>\n",
       "    </tr>\n",
       "    <tr>\n",
       "      <th>2</th>\n",
       "      <td>464285</td>\n",
       "      <td>464285</td>\n",
       "      <td>UNITED STATES</td>\n",
       "      <td>GUEST</td>\n",
       "      <td>I</td>\n",
       "    </tr>\n",
       "    <tr>\n",
       "      <th>3</th>\n",
       "      <td>1241385582340190208</td>\n",
       "      <td>1241385582340190208</td>\n",
       "      <td>None</td>\n",
       "      <td>GUEST</td>\n",
       "      <td>None</td>\n",
       "    </tr>\n",
       "    <tr>\n",
       "      <th>4</th>\n",
       "      <td>1240839219760304128</td>\n",
       "      <td>1240839219760304128</td>\n",
       "      <td>None</td>\n",
       "      <td>GUEST</td>\n",
       "      <td>None</td>\n",
       "    </tr>\n",
       "  </tbody>\n",
       "</table>\n",
       "</div>"
      ]
     },
     "execution_count": 142,
     "metadata": {},
     "output_type": "execute_result"
    },
    {
     "data": {
      "text/plain": [
       "(12560431, 5)"
      ]
     },
     "execution_count": 142,
     "metadata": {},
     "output_type": "execute_result"
    },
    {
     "name": "stdout",
     "output_type": "stream",
     "text": [
      "mbr_nbr                      0\n",
      "owner_mbr_nbr                0\n",
      "mbr_country_desc       9958820\n",
      "mbr_mbrshp_type_cd           0\n",
      "mbr_status            11663855\n",
      "dtype: int64\n"
     ]
    },
    {
     "data": {
      "text/plain": [
       "mbr_mbrshp_type_cd\n",
       "GUEST      11722393\n",
       "BASIC        691271\n",
       "PREMIER      146767\n",
       "Name: count, dtype: int64"
      ]
     },
     "execution_count": 142,
     "metadata": {},
     "output_type": "execute_result"
    }
   ],
   "execution_count": 142
  },
  {
   "metadata": {
    "ExecuteTime": {
     "end_time": "2025-06-10T15:41:11.650182Z",
     "start_time": "2025-06-10T15:41:11.192664Z"
    }
   },
   "cell_type": "code",
   "source": [
    "## Total number of duplicate owner numbers\n",
    "\n",
    "data_members_2025.duplicated('owner_mbr_nbr').sum()"
   ],
   "id": "601e1084b0832f52",
   "outputs": [
    {
     "data": {
      "text/plain": [
       "np.int64(47399)"
      ]
     },
     "execution_count": 9,
     "metadata": {},
     "output_type": "execute_result"
    }
   ],
   "execution_count": 9
  },
  {
   "metadata": {
    "ExecuteTime": {
     "end_time": "2025-06-10T15:42:38.903086Z",
     "start_time": "2025-06-10T15:42:38.271416Z"
    }
   },
   "cell_type": "code",
   "source": [
    "## Dropping duplicates based on owner_mbr_nbr\n",
    "\n",
    "data_members_2025_no_duplicates = data_members_2025.drop_duplicates('owner_mbr_nbr')"
   ],
   "id": "ecbbd9df6cb51d0",
   "outputs": [],
   "execution_count": 13
  },
  {
   "metadata": {
    "ExecuteTime": {
     "end_time": "2025-06-10T15:42:57.379380Z",
     "start_time": "2025-06-10T15:42:57.192681Z"
    }
   },
   "cell_type": "code",
   "source": "data_members_2025_no_duplicates['mbr_mbrshp_type_cd'].value_counts()",
   "id": "fe87194c537834a8",
   "outputs": [
    {
     "data": {
      "text/plain": [
       "mbr_mbrshp_type_cd\n",
       "GUEST      11687683\n",
       "BASIC        691407\n",
       "PREMIER      102100\n",
       "Name: count, dtype: int64"
      ]
     },
     "execution_count": 14,
     "metadata": {},
     "output_type": "execute_result"
    }
   ],
   "execution_count": 14
  },
  {
   "metadata": {
    "ExecuteTime": {
     "end_time": "2025-06-10T15:54:29.245185Z",
     "start_time": "2025-06-10T15:54:28.880285Z"
    }
   },
   "cell_type": "code",
   "source": [
    "counts = data_members_2025_no_duplicates['mbr_mbrshp_type_cd'].value_counts()\n",
    "percentages = data_members_2025_no_duplicates['mbr_mbrshp_type_cd'].value_counts(normalize=True) * 100\n",
    "\n",
    "summary = pd.DataFrame({\n",
    "    'Count': counts,\n",
    "    'Percentage': percentages.round(2)\n",
    "})\n",
    "\n",
    "summary"
   ],
   "id": "665d40170e76b68f",
   "outputs": [
    {
     "data": {
      "text/plain": [
       "                       Count  Percentage\n",
       "mbr_mbrshp_type_cd                      \n",
       "GUEST               11687683       93.64\n",
       "BASIC                 691407        5.54\n",
       "PREMIER               102100        0.82"
      ],
      "text/html": [
       "<div>\n",
       "<style scoped>\n",
       "    .dataframe tbody tr th:only-of-type {\n",
       "        vertical-align: middle;\n",
       "    }\n",
       "\n",
       "    .dataframe tbody tr th {\n",
       "        vertical-align: top;\n",
       "    }\n",
       "\n",
       "    .dataframe thead th {\n",
       "        text-align: right;\n",
       "    }\n",
       "</style>\n",
       "<table border=\"1\" class=\"dataframe\">\n",
       "  <thead>\n",
       "    <tr style=\"text-align: right;\">\n",
       "      <th></th>\n",
       "      <th>Count</th>\n",
       "      <th>Percentage</th>\n",
       "    </tr>\n",
       "    <tr>\n",
       "      <th>mbr_mbrshp_type_cd</th>\n",
       "      <th></th>\n",
       "      <th></th>\n",
       "    </tr>\n",
       "  </thead>\n",
       "  <tbody>\n",
       "    <tr>\n",
       "      <th>GUEST</th>\n",
       "      <td>11687683</td>\n",
       "      <td>93.64</td>\n",
       "    </tr>\n",
       "    <tr>\n",
       "      <th>BASIC</th>\n",
       "      <td>691407</td>\n",
       "      <td>5.54</td>\n",
       "    </tr>\n",
       "    <tr>\n",
       "      <th>PREMIER</th>\n",
       "      <td>102100</td>\n",
       "      <td>0.82</td>\n",
       "    </tr>\n",
       "  </tbody>\n",
       "</table>\n",
       "</div>"
      ]
     },
     "execution_count": 19,
     "metadata": {},
     "output_type": "execute_result"
    }
   ],
   "execution_count": 19
  },
  {
   "metadata": {
    "ExecuteTime": {
     "end_time": "2025-06-10T15:49:08.790128Z",
     "start_time": "2025-06-10T15:49:08.508820Z"
    }
   },
   "cell_type": "code",
   "source": [
    "## To check null values in the dataset\n",
    "\n",
    "data_members_2025_no_duplicates.isnull().sum()"
   ],
   "id": "840a9d7e575941b0",
   "outputs": [
    {
     "data": {
      "text/plain": [
       "mbr_nbr                      0\n",
       "owner_mbr_nbr                0\n",
       "mbr_country_desc       9929716\n",
       "mbr_mbrshp_type_cd           0\n",
       "mbr_status            11634936\n",
       "dtype: int64"
      ]
     },
     "execution_count": 17,
     "metadata": {},
     "output_type": "execute_result"
    }
   ],
   "execution_count": 17
  },
  {
   "metadata": {
    "ExecuteTime": {
     "end_time": "2025-06-10T15:49:37.288234Z",
     "start_time": "2025-06-10T15:49:37.285507Z"
    }
   },
   "cell_type": "code",
   "source": "data_members_2025_no_duplicates.shape",
   "id": "a73eb794248f830d",
   "outputs": [
    {
     "data": {
      "text/plain": [
       "(12481190, 5)"
      ]
     },
     "execution_count": 18,
     "metadata": {},
     "output_type": "execute_result"
    }
   ],
   "execution_count": 18
  },
  {
   "metadata": {},
   "cell_type": "markdown",
   "source": "### Q2. How many Premier members have bought lots in the last 6 months/ 3 months/ 1 month?",
   "id": "ea54a3a550311d6b"
  },
  {
   "metadata": {
    "ExecuteTime": {
     "end_time": "2025-06-16T18:35:02.003070Z",
     "start_time": "2025-06-16T18:34:54.074440Z"
    }
   },
   "cell_type": "code",
   "source": [
    "query4 = \"\"\"\n",
    "select member_sgmnt_type, count(*) as member_count\n",
    "from `cprtpr-dataplatform-sp1`.usviews.v_us_member_fact\n",
    "where mbr_mbrshp_type_cd = 'PREMIER'\n",
    "group by member_sgmnt_type\n",
    "\"\"\"\n",
    "\n",
    "data_PM_type = client.query(query4).to_dataframe()"
   ],
   "id": "14d5168c46ad80d1",
   "outputs": [],
   "execution_count": 143
  },
  {
   "metadata": {
    "ExecuteTime": {
     "end_time": "2025-06-16T18:35:05.958183Z",
     "start_time": "2025-06-16T18:35:05.952822Z"
    }
   },
   "cell_type": "code",
   "source": [
    "data_PM_type.head()\n",
    "data_PM_type.shape\n",
    "print(data_PM_type.isnull().sum())"
   ],
   "id": "374039ab69f89c85",
   "outputs": [
    {
     "data": {
      "text/plain": [
       "  member_sgmnt_type  member_count\n",
       "0              None          5574\n",
       "1        Dismantler         28850\n",
       "2  General Business          3728\n",
       "3            Dealer         33687\n",
       "4          Consumer         45582"
      ],
      "text/html": [
       "<div>\n",
       "<style scoped>\n",
       "    .dataframe tbody tr th:only-of-type {\n",
       "        vertical-align: middle;\n",
       "    }\n",
       "\n",
       "    .dataframe tbody tr th {\n",
       "        vertical-align: top;\n",
       "    }\n",
       "\n",
       "    .dataframe thead th {\n",
       "        text-align: right;\n",
       "    }\n",
       "</style>\n",
       "<table border=\"1\" class=\"dataframe\">\n",
       "  <thead>\n",
       "    <tr style=\"text-align: right;\">\n",
       "      <th></th>\n",
       "      <th>member_sgmnt_type</th>\n",
       "      <th>member_count</th>\n",
       "    </tr>\n",
       "  </thead>\n",
       "  <tbody>\n",
       "    <tr>\n",
       "      <th>0</th>\n",
       "      <td>None</td>\n",
       "      <td>5574</td>\n",
       "    </tr>\n",
       "    <tr>\n",
       "      <th>1</th>\n",
       "      <td>Dismantler</td>\n",
       "      <td>28850</td>\n",
       "    </tr>\n",
       "    <tr>\n",
       "      <th>2</th>\n",
       "      <td>General Business</td>\n",
       "      <td>3728</td>\n",
       "    </tr>\n",
       "    <tr>\n",
       "      <th>3</th>\n",
       "      <td>Dealer</td>\n",
       "      <td>33687</td>\n",
       "    </tr>\n",
       "    <tr>\n",
       "      <th>4</th>\n",
       "      <td>Consumer</td>\n",
       "      <td>45582</td>\n",
       "    </tr>\n",
       "  </tbody>\n",
       "</table>\n",
       "</div>"
      ]
     },
     "execution_count": 144,
     "metadata": {},
     "output_type": "execute_result"
    },
    {
     "data": {
      "text/plain": [
       "(6, 2)"
      ]
     },
     "execution_count": 144,
     "metadata": {},
     "output_type": "execute_result"
    },
    {
     "name": "stdout",
     "output_type": "stream",
     "text": [
      "member_sgmnt_type    1\n",
      "member_count         0\n",
      "dtype: int64\n"
     ]
    }
   ],
   "execution_count": 144
  },
  {
   "metadata": {
    "ExecuteTime": {
     "end_time": "2025-06-11T15:05:28.805784Z",
     "start_time": "2025-06-11T15:05:28.793259Z"
    }
   },
   "cell_type": "code",
   "source": [
    "## Check duplicates in owner_mbr_nbr\n",
    "\n",
    "data_premier_buying_6months['owner_mbr_nbr'].duplicated().sum()"
   ],
   "id": "66f0e99e87ad9202",
   "outputs": [
    {
     "data": {
      "text/plain": [
       "np.int64(1785707)"
      ]
     },
     "execution_count": 23,
     "metadata": {},
     "output_type": "execute_result"
    }
   ],
   "execution_count": 23
  },
  {
   "metadata": {
    "ExecuteTime": {
     "end_time": "2025-06-11T15:05:33.862920Z",
     "start_time": "2025-06-11T15:05:33.849891Z"
    }
   },
   "cell_type": "code",
   "source": "data_premier_buying_6months = data_premier_buying_6months.drop_duplicates(['owner_mbr_nbr'])",
   "id": "cd9bdb99ed46feee",
   "outputs": [],
   "execution_count": 24
  },
  {
   "metadata": {
    "ExecuteTime": {
     "end_time": "2025-06-11T15:05:34.745952Z",
     "start_time": "2025-06-11T15:05:34.742241Z"
    }
   },
   "cell_type": "code",
   "source": "data_premier_buying_6months['mbr_nbr'].nunique()",
   "id": "860f7db02f25ad41",
   "outputs": [
    {
     "data": {
      "text/plain": [
       "55263"
      ]
     },
     "execution_count": 25,
     "metadata": {},
     "output_type": "execute_result"
    }
   ],
   "execution_count": 25
  },
  {
   "metadata": {
    "ExecuteTime": {
     "end_time": "2025-06-11T15:05:41.544281Z",
     "start_time": "2025-06-11T15:05:41.479680Z"
    }
   },
   "cell_type": "code",
   "source": [
    "## Extracting month from the invoice date\n",
    "\n",
    "data_premier_buying_6months['inv_dt'] = pd.to_datetime(data_premier_buying_6months['inv_dt'])\n",
    "data_premier_buying_6months['inv_dt_month'] = data_premier_buying_6months['inv_dt'].dt.month\n",
    "\n",
    "data_premier_buying_6months"
   ],
   "id": "7aecdb5336d0b3e5",
   "outputs": [
    {
     "data": {
      "text/plain": [
       "          lot_nbr  buyer_nbr  mbr_nbr  owner_mbr_nbr mbr_status  \\\n",
       "0        45928735     248618   248618         248618          A   \n",
       "1        80509744       6915     6915           6915          A   \n",
       "2        53283265      31666    31666          31666          A   \n",
       "3        59498104     129396   129396         484427          I   \n",
       "4        69954044     495671   495671         495671          A   \n",
       "...           ...        ...      ...            ...        ...   \n",
       "1840703  53085165     137291   137291         137291          I   \n",
       "1840854  45089285     147562   147562         147562          A   \n",
       "1840858  42251735     486977   486977         486977          A   \n",
       "1840862  58442385     746062   746062         746062          A   \n",
       "1840909  55503105     533689   533689         533689          A   \n",
       "\n",
       "             mbr_country_desc     inv_dt       acv  high_bid_amt  inv_dt_month  \n",
       "0               UNITED STATES 2025-02-23      0.00       10500.0             2  \n",
       "1               UNITED STATES 2025-01-26      0.00         550.0             1  \n",
       "2           GHANA,REPUBLIC OF 2025-05-24  24922.00        5700.0             5  \n",
       "3        UNITED ARAB EMIRATES 2024-12-29  22440.00        4200.0            12  \n",
       "4                  MAURITANIA 2024-12-07  20450.40        5500.0            12  \n",
       "...                       ...        ...       ...           ...           ...  \n",
       "1840703         UNITED STATES 2025-06-10  25884.89       14900.0             6  \n",
       "1840854         UNITED STATES 2025-06-10   9732.00        3250.0             6  \n",
       "1840858         UNITED STATES 2025-06-10   2665.00        1750.0             6  \n",
       "1840862                CANADA 2025-06-10  25319.14       16200.0             6  \n",
       "1840909         UNITED STATES 2025-06-10  13070.00        4000.0             6  \n",
       "\n",
       "[55263 rows x 10 columns]"
      ],
      "text/html": [
       "<div>\n",
       "<style scoped>\n",
       "    .dataframe tbody tr th:only-of-type {\n",
       "        vertical-align: middle;\n",
       "    }\n",
       "\n",
       "    .dataframe tbody tr th {\n",
       "        vertical-align: top;\n",
       "    }\n",
       "\n",
       "    .dataframe thead th {\n",
       "        text-align: right;\n",
       "    }\n",
       "</style>\n",
       "<table border=\"1\" class=\"dataframe\">\n",
       "  <thead>\n",
       "    <tr style=\"text-align: right;\">\n",
       "      <th></th>\n",
       "      <th>lot_nbr</th>\n",
       "      <th>buyer_nbr</th>\n",
       "      <th>mbr_nbr</th>\n",
       "      <th>owner_mbr_nbr</th>\n",
       "      <th>mbr_status</th>\n",
       "      <th>mbr_country_desc</th>\n",
       "      <th>inv_dt</th>\n",
       "      <th>acv</th>\n",
       "      <th>high_bid_amt</th>\n",
       "      <th>inv_dt_month</th>\n",
       "    </tr>\n",
       "  </thead>\n",
       "  <tbody>\n",
       "    <tr>\n",
       "      <th>0</th>\n",
       "      <td>45928735</td>\n",
       "      <td>248618</td>\n",
       "      <td>248618</td>\n",
       "      <td>248618</td>\n",
       "      <td>A</td>\n",
       "      <td>UNITED STATES</td>\n",
       "      <td>2025-02-23</td>\n",
       "      <td>0.00</td>\n",
       "      <td>10500.0</td>\n",
       "      <td>2</td>\n",
       "    </tr>\n",
       "    <tr>\n",
       "      <th>1</th>\n",
       "      <td>80509744</td>\n",
       "      <td>6915</td>\n",
       "      <td>6915</td>\n",
       "      <td>6915</td>\n",
       "      <td>A</td>\n",
       "      <td>UNITED STATES</td>\n",
       "      <td>2025-01-26</td>\n",
       "      <td>0.00</td>\n",
       "      <td>550.0</td>\n",
       "      <td>1</td>\n",
       "    </tr>\n",
       "    <tr>\n",
       "      <th>2</th>\n",
       "      <td>53283265</td>\n",
       "      <td>31666</td>\n",
       "      <td>31666</td>\n",
       "      <td>31666</td>\n",
       "      <td>A</td>\n",
       "      <td>GHANA,REPUBLIC OF</td>\n",
       "      <td>2025-05-24</td>\n",
       "      <td>24922.00</td>\n",
       "      <td>5700.0</td>\n",
       "      <td>5</td>\n",
       "    </tr>\n",
       "    <tr>\n",
       "      <th>3</th>\n",
       "      <td>59498104</td>\n",
       "      <td>129396</td>\n",
       "      <td>129396</td>\n",
       "      <td>484427</td>\n",
       "      <td>I</td>\n",
       "      <td>UNITED ARAB EMIRATES</td>\n",
       "      <td>2024-12-29</td>\n",
       "      <td>22440.00</td>\n",
       "      <td>4200.0</td>\n",
       "      <td>12</td>\n",
       "    </tr>\n",
       "    <tr>\n",
       "      <th>4</th>\n",
       "      <td>69954044</td>\n",
       "      <td>495671</td>\n",
       "      <td>495671</td>\n",
       "      <td>495671</td>\n",
       "      <td>A</td>\n",
       "      <td>MAURITANIA</td>\n",
       "      <td>2024-12-07</td>\n",
       "      <td>20450.40</td>\n",
       "      <td>5500.0</td>\n",
       "      <td>12</td>\n",
       "    </tr>\n",
       "    <tr>\n",
       "      <th>...</th>\n",
       "      <td>...</td>\n",
       "      <td>...</td>\n",
       "      <td>...</td>\n",
       "      <td>...</td>\n",
       "      <td>...</td>\n",
       "      <td>...</td>\n",
       "      <td>...</td>\n",
       "      <td>...</td>\n",
       "      <td>...</td>\n",
       "      <td>...</td>\n",
       "    </tr>\n",
       "    <tr>\n",
       "      <th>1840703</th>\n",
       "      <td>53085165</td>\n",
       "      <td>137291</td>\n",
       "      <td>137291</td>\n",
       "      <td>137291</td>\n",
       "      <td>I</td>\n",
       "      <td>UNITED STATES</td>\n",
       "      <td>2025-06-10</td>\n",
       "      <td>25884.89</td>\n",
       "      <td>14900.0</td>\n",
       "      <td>6</td>\n",
       "    </tr>\n",
       "    <tr>\n",
       "      <th>1840854</th>\n",
       "      <td>45089285</td>\n",
       "      <td>147562</td>\n",
       "      <td>147562</td>\n",
       "      <td>147562</td>\n",
       "      <td>A</td>\n",
       "      <td>UNITED STATES</td>\n",
       "      <td>2025-06-10</td>\n",
       "      <td>9732.00</td>\n",
       "      <td>3250.0</td>\n",
       "      <td>6</td>\n",
       "    </tr>\n",
       "    <tr>\n",
       "      <th>1840858</th>\n",
       "      <td>42251735</td>\n",
       "      <td>486977</td>\n",
       "      <td>486977</td>\n",
       "      <td>486977</td>\n",
       "      <td>A</td>\n",
       "      <td>UNITED STATES</td>\n",
       "      <td>2025-06-10</td>\n",
       "      <td>2665.00</td>\n",
       "      <td>1750.0</td>\n",
       "      <td>6</td>\n",
       "    </tr>\n",
       "    <tr>\n",
       "      <th>1840862</th>\n",
       "      <td>58442385</td>\n",
       "      <td>746062</td>\n",
       "      <td>746062</td>\n",
       "      <td>746062</td>\n",
       "      <td>A</td>\n",
       "      <td>CANADA</td>\n",
       "      <td>2025-06-10</td>\n",
       "      <td>25319.14</td>\n",
       "      <td>16200.0</td>\n",
       "      <td>6</td>\n",
       "    </tr>\n",
       "    <tr>\n",
       "      <th>1840909</th>\n",
       "      <td>55503105</td>\n",
       "      <td>533689</td>\n",
       "      <td>533689</td>\n",
       "      <td>533689</td>\n",
       "      <td>A</td>\n",
       "      <td>UNITED STATES</td>\n",
       "      <td>2025-06-10</td>\n",
       "      <td>13070.00</td>\n",
       "      <td>4000.0</td>\n",
       "      <td>6</td>\n",
       "    </tr>\n",
       "  </tbody>\n",
       "</table>\n",
       "<p>55263 rows × 10 columns</p>\n",
       "</div>"
      ]
     },
     "execution_count": 26,
     "metadata": {},
     "output_type": "execute_result"
    }
   ],
   "execution_count": 26
  },
  {
   "metadata": {
    "ExecuteTime": {
     "end_time": "2025-06-11T15:05:44.747771Z",
     "start_time": "2025-06-11T15:05:44.742755Z"
    }
   },
   "cell_type": "code",
   "source": [
    "## Dividing the data into different month groups\n",
    "\n",
    "data_premier_buying_6months_Dec_to_May = data_premier_buying_6months[data_premier_buying_6months['inv_dt_month'].isin([12, 1, 2, 3, 4, 5])]\n",
    "data_premier_buying_6months_May = data_premier_buying_6months[data_premier_buying_6months['inv_dt_month'] == 5]\n",
    "data_premier_buying_6months_March_to_May = data_premier_buying_6months[data_premier_buying_6months['inv_dt_month'].isin([3, 4, 5])]"
   ],
   "id": "4a1ef24af6866d62",
   "outputs": [],
   "execution_count": 27
  },
  {
   "metadata": {
    "ExecuteTime": {
     "end_time": "2025-06-11T15:06:03.813856Z",
     "start_time": "2025-06-11T15:06:03.808593Z"
    }
   },
   "cell_type": "code",
   "source": "data_premier_buying_6months_Dec_to_May['owner_mbr_nbr'].nunique()",
   "id": "9a888babfc162884",
   "outputs": [
    {
     "data": {
      "text/plain": [
       "52848"
      ]
     },
     "execution_count": 29,
     "metadata": {},
     "output_type": "execute_result"
    }
   ],
   "execution_count": 29
  },
  {
   "metadata": {
    "ExecuteTime": {
     "end_time": "2025-06-11T15:06:10.992079Z",
     "start_time": "2025-06-11T15:06:10.988885Z"
    }
   },
   "cell_type": "code",
   "source": "data_premier_buying_6months_March_to_May['owner_mbr_nbr'].nunique()",
   "id": "c6b3b064b3adf32d",
   "outputs": [
    {
     "data": {
      "text/plain": [
       "16817"
      ]
     },
     "execution_count": 30,
     "metadata": {},
     "output_type": "execute_result"
    }
   ],
   "execution_count": 30
  },
  {
   "metadata": {
    "ExecuteTime": {
     "end_time": "2025-06-11T15:06:16.404777Z",
     "start_time": "2025-06-11T15:06:16.402295Z"
    }
   },
   "cell_type": "code",
   "source": "data_premier_buying_6months_May['owner_mbr_nbr'].nunique()",
   "id": "d2b2e8b8d8b48248",
   "outputs": [
    {
     "data": {
      "text/plain": [
       "5031"
      ]
     },
     "execution_count": 31,
     "metadata": {},
     "output_type": "execute_result"
    }
   ],
   "execution_count": 31
  },
  {
   "metadata": {},
   "cell_type": "markdown",
   "source": "### Q3. What is the distribution of ACV and Selling Price for lots bought by Premier members in the last 6 months?",
   "id": "3f8f145dc4c231cd"
  },
  {
   "metadata": {
    "ExecuteTime": {
     "end_time": "2025-06-10T19:51:40.595597Z",
     "start_time": "2025-06-10T19:51:40.401252Z"
    }
   },
   "cell_type": "code",
   "source": [
    "## ACV Distribution and Outliers\n",
    "\n",
    "import matplotlib.pyplot as plt\n",
    "\n",
    "fig, axes = plt.subplots(1, 2, figsize=(18, 6))\n",
    "\n",
    "# Histogram\n",
    "data_premier_buying_6months['acv'].plot(\n",
    "    kind='hist', bins=50, ax=axes[0], title='ACV Distribution'\n",
    ")\n",
    "\n",
    "# Describe table\n",
    "desc = data_premier_buying_6months['acv'].describe().to_frame()\n",
    "desc.loc['median'] = data_premier_buying_6months['acv'].median()\n",
    "axes[1].axis('off')\n",
    "table = axes[1].table(\n",
    "    cellText=desc.values,\n",
    "    rowLabels=desc.index,\n",
    "    colLabels=['acv'],\n",
    "    loc='center'\n",
    ")\n",
    "table.auto_set_font_size(False)\n",
    "table.set_fontsize(17)\n",
    "table.scale(1.2,2)\n",
    "\n",
    "plt.tight_layout()\n",
    "plt.show()"
   ],
   "id": "81cbded0b8aad251",
   "outputs": [
    {
     "data": {
      "text/plain": [
       "<Axes: title={'center': 'ACV Distribution'}, ylabel='Frequency'>"
      ]
     },
     "execution_count": 129,
     "metadata": {},
     "output_type": "execute_result"
    },
    {
     "data": {
      "text/plain": [
       "(np.float64(0.0), np.float64(1.0), np.float64(0.0), np.float64(1.0))"
      ]
     },
     "execution_count": 129,
     "metadata": {},
     "output_type": "execute_result"
    },
    {
     "data": {
      "text/plain": [
       "<Figure size 1800x600 with 2 Axes>"
      ],
      "image/png": "[encoded data removed]"
     },
     "metadata": {},
     "output_type": "display_data"
    }
   ],
   "execution_count": 129
  },
  {
   "metadata": {},
   "cell_type": "markdown",
   "source": "#### * Checking for outliers in ACV",
   "id": "acd8b0367ea5a1c7"
  },
  {
   "metadata": {
    "ExecuteTime": {
     "end_time": "2025-06-10T19:51:41.696636Z",
     "start_time": "2025-06-10T19:51:41.682185Z"
    }
   },
   "cell_type": "code",
   "source": "data_premier_buying_6months[data_premier_buying_6months['acv']==0]",
   "id": "56be2cb969f972b",
   "outputs": [
    {
     "data": {
      "text/plain": [
       "          lot_nbr  buyer_nbr  mbr_nbr  owner_mbr_nbr      mbr_country_desc  \\\n",
       "9        53718995     909921   909921         909921         UNITED STATES   \n",
       "14       80587454     244151   244151         220834         UNITED STATES   \n",
       "15       47804385     339109   339109         339109         UNITED STATES   \n",
       "16       41569545     383732   383732         383732         UNITED STATES   \n",
       "33       51361905     524325   524325         524325         UNITED STATES   \n",
       "...           ...        ...      ...            ...                   ...   \n",
       "1835094  50359625     420688   420688         420688         UNITED STATES   \n",
       "1835102  58924975     200283   200283         200283  UNITED ARAB EMIRATES   \n",
       "1835128  59606095     895668   895668         688783         UNITED STATES   \n",
       "1835129  54176125     519058   519058         519058         UNITED STATES   \n",
       "1835136  53477625     219854   219854         219854         UNITED STATES   \n",
       "\n",
       "        mbr_status     inv_dt  acv  high_bid_amt  inv_dt_month  \n",
       "9                A 2025-05-26  0.0        1600.0             5  \n",
       "14               A 2024-12-14  0.0      104000.0            12  \n",
       "15               A 2025-04-12  0.0         500.0             4  \n",
       "16               A 2025-05-11  0.0         500.0             5  \n",
       "33               A 2025-04-20  0.0         300.0             4  \n",
       "...            ...        ...  ...           ...           ...  \n",
       "1835094          A 2025-06-10  0.0        7500.0             6  \n",
       "1835102          A 2025-06-10  0.0         500.0             6  \n",
       "1835128          A 2025-06-10  0.0         700.0             6  \n",
       "1835129          A 2025-06-10  0.0        1050.0             6  \n",
       "1835136          A 2025-06-10  0.0         175.0             6  \n",
       "\n",
       "[127369 rows x 10 columns]"
      ],
      "text/html": [
       "<div>\n",
       "<style scoped>\n",
       "    .dataframe tbody tr th:only-of-type {\n",
       "        vertical-align: middle;\n",
       "    }\n",
       "\n",
       "    .dataframe tbody tr th {\n",
       "        vertical-align: top;\n",
       "    }\n",
       "\n",
       "    .dataframe thead th {\n",
       "        text-align: right;\n",
       "    }\n",
       "</style>\n",
       "<table border=\"1\" class=\"dataframe\">\n",
       "  <thead>\n",
       "    <tr style=\"text-align: right;\">\n",
       "      <th></th>\n",
       "      <th>lot_nbr</th>\n",
       "      <th>buyer_nbr</th>\n",
       "      <th>mbr_nbr</th>\n",
       "      <th>owner_mbr_nbr</th>\n",
       "      <th>mbr_country_desc</th>\n",
       "      <th>mbr_status</th>\n",
       "      <th>inv_dt</th>\n",
       "      <th>acv</th>\n",
       "      <th>high_bid_amt</th>\n",
       "      <th>inv_dt_month</th>\n",
       "    </tr>\n",
       "  </thead>\n",
       "  <tbody>\n",
       "    <tr>\n",
       "      <th>9</th>\n",
       "      <td>53718995</td>\n",
       "      <td>909921</td>\n",
       "      <td>909921</td>\n",
       "      <td>909921</td>\n",
       "      <td>UNITED STATES</td>\n",
       "      <td>A</td>\n",
       "      <td>2025-05-26</td>\n",
       "      <td>0.0</td>\n",
       "      <td>1600.0</td>\n",
       "      <td>5</td>\n",
       "    </tr>\n",
       "    <tr>\n",
       "      <th>14</th>\n",
       "      <td>80587454</td>\n",
       "      <td>244151</td>\n",
       "      <td>244151</td>\n",
       "      <td>220834</td>\n",
       "      <td>UNITED STATES</td>\n",
       "      <td>A</td>\n",
       "      <td>2024-12-14</td>\n",
       "      <td>0.0</td>\n",
       "      <td>104000.0</td>\n",
       "      <td>12</td>\n",
       "    </tr>\n",
       "    <tr>\n",
       "      <th>15</th>\n",
       "      <td>47804385</td>\n",
       "      <td>339109</td>\n",
       "      <td>339109</td>\n",
       "      <td>339109</td>\n",
       "      <td>UNITED STATES</td>\n",
       "      <td>A</td>\n",
       "      <td>2025-04-12</td>\n",
       "      <td>0.0</td>\n",
       "      <td>500.0</td>\n",
       "      <td>4</td>\n",
       "    </tr>\n",
       "    <tr>\n",
       "      <th>16</th>\n",
       "      <td>41569545</td>\n",
       "      <td>383732</td>\n",
       "      <td>383732</td>\n",
       "      <td>383732</td>\n",
       "      <td>UNITED STATES</td>\n",
       "      <td>A</td>\n",
       "      <td>2025-05-11</td>\n",
       "      <td>0.0</td>\n",
       "      <td>500.0</td>\n",
       "      <td>5</td>\n",
       "    </tr>\n",
       "    <tr>\n",
       "      <th>33</th>\n",
       "      <td>51361905</td>\n",
       "      <td>524325</td>\n",
       "      <td>524325</td>\n",
       "      <td>524325</td>\n",
       "      <td>UNITED STATES</td>\n",
       "      <td>A</td>\n",
       "      <td>2025-04-20</td>\n",
       "      <td>0.0</td>\n",
       "      <td>300.0</td>\n",
       "      <td>4</td>\n",
       "    </tr>\n",
       "    <tr>\n",
       "      <th>...</th>\n",
       "      <td>...</td>\n",
       "      <td>...</td>\n",
       "      <td>...</td>\n",
       "      <td>...</td>\n",
       "      <td>...</td>\n",
       "      <td>...</td>\n",
       "      <td>...</td>\n",
       "      <td>...</td>\n",
       "      <td>...</td>\n",
       "      <td>...</td>\n",
       "    </tr>\n",
       "    <tr>\n",
       "      <th>1835094</th>\n",
       "      <td>50359625</td>\n",
       "      <td>420688</td>\n",
       "      <td>420688</td>\n",
       "      <td>420688</td>\n",
       "      <td>UNITED STATES</td>\n",
       "      <td>A</td>\n",
       "      <td>2025-06-10</td>\n",
       "      <td>0.0</td>\n",
       "      <td>7500.0</td>\n",
       "      <td>6</td>\n",
       "    </tr>\n",
       "    <tr>\n",
       "      <th>1835102</th>\n",
       "      <td>58924975</td>\n",
       "      <td>200283</td>\n",
       "      <td>200283</td>\n",
       "      <td>200283</td>\n",
       "      <td>UNITED ARAB EMIRATES</td>\n",
       "      <td>A</td>\n",
       "      <td>2025-06-10</td>\n",
       "      <td>0.0</td>\n",
       "      <td>500.0</td>\n",
       "      <td>6</td>\n",
       "    </tr>\n",
       "    <tr>\n",
       "      <th>1835128</th>\n",
       "      <td>59606095</td>\n",
       "      <td>895668</td>\n",
       "      <td>895668</td>\n",
       "      <td>688783</td>\n",
       "      <td>UNITED STATES</td>\n",
       "      <td>A</td>\n",
       "      <td>2025-06-10</td>\n",
       "      <td>0.0</td>\n",
       "      <td>700.0</td>\n",
       "      <td>6</td>\n",
       "    </tr>\n",
       "    <tr>\n",
       "      <th>1835129</th>\n",
       "      <td>54176125</td>\n",
       "      <td>519058</td>\n",
       "      <td>519058</td>\n",
       "      <td>519058</td>\n",
       "      <td>UNITED STATES</td>\n",
       "      <td>A</td>\n",
       "      <td>2025-06-10</td>\n",
       "      <td>0.0</td>\n",
       "      <td>1050.0</td>\n",
       "      <td>6</td>\n",
       "    </tr>\n",
       "    <tr>\n",
       "      <th>1835136</th>\n",
       "      <td>53477625</td>\n",
       "      <td>219854</td>\n",
       "      <td>219854</td>\n",
       "      <td>219854</td>\n",
       "      <td>UNITED STATES</td>\n",
       "      <td>A</td>\n",
       "      <td>2025-06-10</td>\n",
       "      <td>0.0</td>\n",
       "      <td>175.0</td>\n",
       "      <td>6</td>\n",
       "    </tr>\n",
       "  </tbody>\n",
       "</table>\n",
       "<p>127369 rows × 10 columns</p>\n",
       "</div>"
      ]
     },
     "execution_count": 130,
     "metadata": {},
     "output_type": "execute_result"
    }
   ],
   "execution_count": 130
  },
  {
   "metadata": {
    "ExecuteTime": {
     "end_time": "2025-06-10T19:51:42.196604Z",
     "start_time": "2025-06-10T19:51:42.191859Z"
    }
   },
   "cell_type": "code",
   "source": "data_premier_buying_6months[data_premier_buying_6months['acv']==9999999.99]",
   "id": "c8adbd55535389f",
   "outputs": [
    {
     "data": {
      "text/plain": [
       "          lot_nbr  buyer_nbr  mbr_nbr  owner_mbr_nbr mbr_country_desc  \\\n",
       "1678425  57888305     583968   583968         583968    UNITED STATES   \n",
       "1759674  56763685       8917     8917           8917    UNITED STATES   \n",
       "\n",
       "        mbr_status     inv_dt         acv  high_bid_amt  inv_dt_month  \n",
       "1678425          A 2025-05-22  9999999.99       10900.0             5  \n",
       "1759674          A 2025-06-02  9999999.99        1600.0             6  "
      ],
      "text/html": [
       "<div>\n",
       "<style scoped>\n",
       "    .dataframe tbody tr th:only-of-type {\n",
       "        vertical-align: middle;\n",
       "    }\n",
       "\n",
       "    .dataframe tbody tr th {\n",
       "        vertical-align: top;\n",
       "    }\n",
       "\n",
       "    .dataframe thead th {\n",
       "        text-align: right;\n",
       "    }\n",
       "</style>\n",
       "<table border=\"1\" class=\"dataframe\">\n",
       "  <thead>\n",
       "    <tr style=\"text-align: right;\">\n",
       "      <th></th>\n",
       "      <th>lot_nbr</th>\n",
       "      <th>buyer_nbr</th>\n",
       "      <th>mbr_nbr</th>\n",
       "      <th>owner_mbr_nbr</th>\n",
       "      <th>mbr_country_desc</th>\n",
       "      <th>mbr_status</th>\n",
       "      <th>inv_dt</th>\n",
       "      <th>acv</th>\n",
       "      <th>high_bid_amt</th>\n",
       "      <th>inv_dt_month</th>\n",
       "    </tr>\n",
       "  </thead>\n",
       "  <tbody>\n",
       "    <tr>\n",
       "      <th>1678425</th>\n",
       "      <td>57888305</td>\n",
       "      <td>583968</td>\n",
       "      <td>583968</td>\n",
       "      <td>583968</td>\n",
       "      <td>UNITED STATES</td>\n",
       "      <td>A</td>\n",
       "      <td>2025-05-22</td>\n",
       "      <td>9999999.99</td>\n",
       "      <td>10900.0</td>\n",
       "      <td>5</td>\n",
       "    </tr>\n",
       "    <tr>\n",
       "      <th>1759674</th>\n",
       "      <td>56763685</td>\n",
       "      <td>8917</td>\n",
       "      <td>8917</td>\n",
       "      <td>8917</td>\n",
       "      <td>UNITED STATES</td>\n",
       "      <td>A</td>\n",
       "      <td>2025-06-02</td>\n",
       "      <td>9999999.99</td>\n",
       "      <td>1600.0</td>\n",
       "      <td>6</td>\n",
       "    </tr>\n",
       "  </tbody>\n",
       "</table>\n",
       "</div>"
      ]
     },
     "execution_count": 131,
     "metadata": {},
     "output_type": "execute_result"
    }
   ],
   "execution_count": 131
  },
  {
   "metadata": {
    "ExecuteTime": {
     "end_time": "2025-06-10T19:51:42.842064Z",
     "start_time": "2025-06-10T19:51:42.548949Z"
    }
   },
   "cell_type": "code",
   "source": [
    "## Selling Price Distribution and Outliers\n",
    "\n",
    "fig, axes = plt.subplots(1, 2, figsize=(18, 6))\n",
    "\n",
    "# Histogram\n",
    "data_premier_buying_6months['high_bid_amt'].plot(\n",
    "    kind='hist', bins=50, ax=axes[0], title='Selling Price Distribution'\n",
    ")\n",
    "\n",
    "# Describe table\n",
    "desc = data_premier_buying_6months['high_bid_amt'].describe().to_frame()\n",
    "desc.loc['median'] = data_premier_buying_6months['high_bid_amt'].median()\n",
    "axes[1].axis('off')\n",
    "table = axes[1].table(\n",
    "    cellText=desc.values,\n",
    "    rowLabels=desc.index,\n",
    "    colLabels=['SellingPrice'],\n",
    "    loc='center'\n",
    ")\n",
    "table.auto_set_font_size(False)\n",
    "table.set_fontsize(17)\n",
    "table.scale(1.2,2)\n",
    "\n",
    "plt.tight_layout()\n",
    "plt.show()"
   ],
   "id": "e537c4d888a25ab7",
   "outputs": [
    {
     "data": {
      "text/plain": [
       "<Axes: title={'center': 'Selling Price Distribution'}, ylabel='Frequency'>"
      ]
     },
     "execution_count": 132,
     "metadata": {},
     "output_type": "execute_result"
    },
    {
     "data": {
      "text/plain": [
       "(np.float64(0.0), np.float64(1.0), np.float64(0.0), np.float64(1.0))"
      ]
     },
     "execution_count": 132,
     "metadata": {},
     "output_type": "execute_result"
    },
    {
     "data": {
      "text/plain": [
       "<Figure size 1800x600 with 2 Axes>"
      ],
      "image/png": "[encoded data removed]"
     },
     "metadata": {},
     "output_type": "display_data"
    }
   ],
   "execution_count": 132
  },
  {
   "metadata": {},
   "cell_type": "markdown",
   "source": "#### * Checking for outliers in Selling Price",
   "id": "cdeb96a6ac53b9bf"
  },
  {
   "metadata": {
    "ExecuteTime": {
     "end_time": "2025-06-10T19:51:45.032063Z",
     "start_time": "2025-06-10T19:51:45.024191Z"
    }
   },
   "cell_type": "code",
   "source": "data_premier_buying_6months[data_premier_buying_6months['high_bid_amt']==706000]",
   "id": "d16a11cdb1b825e8",
   "outputs": [
    {
     "data": {
      "text/plain": [
       "         lot_nbr  buyer_nbr  mbr_nbr  owner_mbr_nbr mbr_country_desc  \\\n",
       "823676  79169614     580261   580261         580261    UNITED STATES   \n",
       "\n",
       "       mbr_status     inv_dt        acv  high_bid_amt  inv_dt_month  \n",
       "823676          A 2025-02-24  1624907.0      706000.0             2  "
      ],
      "text/html": [
       "<div>\n",
       "<style scoped>\n",
       "    .dataframe tbody tr th:only-of-type {\n",
       "        vertical-align: middle;\n",
       "    }\n",
       "\n",
       "    .dataframe tbody tr th {\n",
       "        vertical-align: top;\n",
       "    }\n",
       "\n",
       "    .dataframe thead th {\n",
       "        text-align: right;\n",
       "    }\n",
       "</style>\n",
       "<table border=\"1\" class=\"dataframe\">\n",
       "  <thead>\n",
       "    <tr style=\"text-align: right;\">\n",
       "      <th></th>\n",
       "      <th>lot_nbr</th>\n",
       "      <th>buyer_nbr</th>\n",
       "      <th>mbr_nbr</th>\n",
       "      <th>owner_mbr_nbr</th>\n",
       "      <th>mbr_country_desc</th>\n",
       "      <th>mbr_status</th>\n",
       "      <th>inv_dt</th>\n",
       "      <th>acv</th>\n",
       "      <th>high_bid_amt</th>\n",
       "      <th>inv_dt_month</th>\n",
       "    </tr>\n",
       "  </thead>\n",
       "  <tbody>\n",
       "    <tr>\n",
       "      <th>823676</th>\n",
       "      <td>79169614</td>\n",
       "      <td>580261</td>\n",
       "      <td>580261</td>\n",
       "      <td>580261</td>\n",
       "      <td>UNITED STATES</td>\n",
       "      <td>A</td>\n",
       "      <td>2025-02-24</td>\n",
       "      <td>1624907.0</td>\n",
       "      <td>706000.0</td>\n",
       "      <td>2</td>\n",
       "    </tr>\n",
       "  </tbody>\n",
       "</table>\n",
       "</div>"
      ]
     },
     "execution_count": 133,
     "metadata": {},
     "output_type": "execute_result"
    }
   ],
   "execution_count": 133
  },
  {
   "metadata": {
    "ExecuteTime": {
     "end_time": "2025-06-10T19:51:45.572179Z",
     "start_time": "2025-06-10T19:51:45.565629Z"
    }
   },
   "cell_type": "code",
   "source": "data_premier_buying_6months[data_premier_buying_6months['high_bid_amt']==1]",
   "id": "f321a4199eb5d05e",
   "outputs": [
    {
     "data": {
      "text/plain": [
       "          lot_nbr  buyer_nbr  mbr_nbr  owner_mbr_nbr mbr_country_desc  \\\n",
       "34296    75170834     110743   110743         110743    UNITED STATES   \n",
       "37938    72533774     110743   110743         110743    UNITED STATES   \n",
       "39174    77695244     110743   110743         110743    UNITED STATES   \n",
       "45560    63278724     110743   110743         110743    UNITED STATES   \n",
       "66308    73007674      49996    49996          49996    UNITED STATES   \n",
       "...           ...        ...      ...            ...              ...   \n",
       "1810687  42826995      49996    49996          49996    UNITED STATES   \n",
       "1813113  51479655      69595    69595          69595    UNITED STATES   \n",
       "1820213  56182192     303188   303188         303188    UNITED STATES   \n",
       "1821496  52606475      69595    69595          69595    UNITED STATES   \n",
       "1827293  82172324     544309   544309         544309    UNITED STATES   \n",
       "\n",
       "        mbr_status     inv_dt       acv  high_bid_amt  inv_dt_month  \n",
       "34296            A 2024-12-02   7841.00           1.0            12  \n",
       "37938            A 2024-12-02  29815.00           1.0            12  \n",
       "39174            A 2024-12-02  25415.00           1.0            12  \n",
       "45560            A 2024-12-03  21801.00           1.0            12  \n",
       "66308            A 2024-12-04  12859.00           1.0            12  \n",
       "...            ...        ...       ...           ...           ...  \n",
       "1810687          A 2025-06-09   9946.00           1.0             6  \n",
       "1813113          A 2025-06-09  24650.00           1.0             6  \n",
       "1820213          A 2025-06-09      1.00           1.0             6  \n",
       "1821496          A 2025-06-09   8983.00           1.0             6  \n",
       "1827293          A 2025-06-10  13943.34           1.0             6  \n",
       "\n",
       "[273 rows x 10 columns]"
      ],
      "text/html": [
       "<div>\n",
       "<style scoped>\n",
       "    .dataframe tbody tr th:only-of-type {\n",
       "        vertical-align: middle;\n",
       "    }\n",
       "\n",
       "    .dataframe tbody tr th {\n",
       "        vertical-align: top;\n",
       "    }\n",
       "\n",
       "    .dataframe thead th {\n",
       "        text-align: right;\n",
       "    }\n",
       "</style>\n",
       "<table border=\"1\" class=\"dataframe\">\n",
       "  <thead>\n",
       "    <tr style=\"text-align: right;\">\n",
       "      <th></th>\n",
       "      <th>lot_nbr</th>\n",
       "      <th>buyer_nbr</th>\n",
       "      <th>mbr_nbr</th>\n",
       "      <th>owner_mbr_nbr</th>\n",
       "      <th>mbr_country_desc</th>\n",
       "      <th>mbr_status</th>\n",
       "      <th>inv_dt</th>\n",
       "      <th>acv</th>\n",
       "      <th>high_bid_amt</th>\n",
       "      <th>inv_dt_month</th>\n",
       "    </tr>\n",
       "  </thead>\n",
       "  <tbody>\n",
       "    <tr>\n",
       "      <th>34296</th>\n",
       "      <td>75170834</td>\n",
       "      <td>110743</td>\n",
       "      <td>110743</td>\n",
       "      <td>110743</td>\n",
       "      <td>UNITED STATES</td>\n",
       "      <td>A</td>\n",
       "      <td>2024-12-02</td>\n",
       "      <td>7841.00</td>\n",
       "      <td>1.0</td>\n",
       "      <td>12</td>\n",
       "    </tr>\n",
       "    <tr>\n",
       "      <th>37938</th>\n",
       "      <td>72533774</td>\n",
       "      <td>110743</td>\n",
       "      <td>110743</td>\n",
       "      <td>110743</td>\n",
       "      <td>UNITED STATES</td>\n",
       "      <td>A</td>\n",
       "      <td>2024-12-02</td>\n",
       "      <td>29815.00</td>\n",
       "      <td>1.0</td>\n",
       "      <td>12</td>\n",
       "    </tr>\n",
       "    <tr>\n",
       "      <th>39174</th>\n",
       "      <td>77695244</td>\n",
       "      <td>110743</td>\n",
       "      <td>110743</td>\n",
       "      <td>110743</td>\n",
       "      <td>UNITED STATES</td>\n",
       "      <td>A</td>\n",
       "      <td>2024-12-02</td>\n",
       "      <td>25415.00</td>\n",
       "      <td>1.0</td>\n",
       "      <td>12</td>\n",
       "    </tr>\n",
       "    <tr>\n",
       "      <th>45560</th>\n",
       "      <td>63278724</td>\n",
       "      <td>110743</td>\n",
       "      <td>110743</td>\n",
       "      <td>110743</td>\n",
       "      <td>UNITED STATES</td>\n",
       "      <td>A</td>\n",
       "      <td>2024-12-03</td>\n",
       "      <td>21801.00</td>\n",
       "      <td>1.0</td>\n",
       "      <td>12</td>\n",
       "    </tr>\n",
       "    <tr>\n",
       "      <th>66308</th>\n",
       "      <td>73007674</td>\n",
       "      <td>49996</td>\n",
       "      <td>49996</td>\n",
       "      <td>49996</td>\n",
       "      <td>UNITED STATES</td>\n",
       "      <td>A</td>\n",
       "      <td>2024-12-04</td>\n",
       "      <td>12859.00</td>\n",
       "      <td>1.0</td>\n",
       "      <td>12</td>\n",
       "    </tr>\n",
       "    <tr>\n",
       "      <th>...</th>\n",
       "      <td>...</td>\n",
       "      <td>...</td>\n",
       "      <td>...</td>\n",
       "      <td>...</td>\n",
       "      <td>...</td>\n",
       "      <td>...</td>\n",
       "      <td>...</td>\n",
       "      <td>...</td>\n",
       "      <td>...</td>\n",
       "      <td>...</td>\n",
       "    </tr>\n",
       "    <tr>\n",
       "      <th>1810687</th>\n",
       "      <td>42826995</td>\n",
       "      <td>49996</td>\n",
       "      <td>49996</td>\n",
       "      <td>49996</td>\n",
       "      <td>UNITED STATES</td>\n",
       "      <td>A</td>\n",
       "      <td>2025-06-09</td>\n",
       "      <td>9946.00</td>\n",
       "      <td>1.0</td>\n",
       "      <td>6</td>\n",
       "    </tr>\n",
       "    <tr>\n",
       "      <th>1813113</th>\n",
       "      <td>51479655</td>\n",
       "      <td>69595</td>\n",
       "      <td>69595</td>\n",
       "      <td>69595</td>\n",
       "      <td>UNITED STATES</td>\n",
       "      <td>A</td>\n",
       "      <td>2025-06-09</td>\n",
       "      <td>24650.00</td>\n",
       "      <td>1.0</td>\n",
       "      <td>6</td>\n",
       "    </tr>\n",
       "    <tr>\n",
       "      <th>1820213</th>\n",
       "      <td>56182192</td>\n",
       "      <td>303188</td>\n",
       "      <td>303188</td>\n",
       "      <td>303188</td>\n",
       "      <td>UNITED STATES</td>\n",
       "      <td>A</td>\n",
       "      <td>2025-06-09</td>\n",
       "      <td>1.00</td>\n",
       "      <td>1.0</td>\n",
       "      <td>6</td>\n",
       "    </tr>\n",
       "    <tr>\n",
       "      <th>1821496</th>\n",
       "      <td>52606475</td>\n",
       "      <td>69595</td>\n",
       "      <td>69595</td>\n",
       "      <td>69595</td>\n",
       "      <td>UNITED STATES</td>\n",
       "      <td>A</td>\n",
       "      <td>2025-06-09</td>\n",
       "      <td>8983.00</td>\n",
       "      <td>1.0</td>\n",
       "      <td>6</td>\n",
       "    </tr>\n",
       "    <tr>\n",
       "      <th>1827293</th>\n",
       "      <td>82172324</td>\n",
       "      <td>544309</td>\n",
       "      <td>544309</td>\n",
       "      <td>544309</td>\n",
       "      <td>UNITED STATES</td>\n",
       "      <td>A</td>\n",
       "      <td>2025-06-10</td>\n",
       "      <td>13943.34</td>\n",
       "      <td>1.0</td>\n",
       "      <td>6</td>\n",
       "    </tr>\n",
       "  </tbody>\n",
       "</table>\n",
       "<p>273 rows × 10 columns</p>\n",
       "</div>"
      ]
     },
     "execution_count": 134,
     "metadata": {},
     "output_type": "execute_result"
    }
   ],
   "execution_count": 134
  },
  {
   "metadata": {},
   "cell_type": "markdown",
   "source": "### Q4. Total number of unique PMs who placed a bid (on the lots sold) in the last month, last 3 months and last 6 months",
   "id": "4f19579b6fe6fc0c"
  },
  {
   "metadata": {
    "ExecuteTime": {
     "end_time": "2025-06-11T14:59:11.243086Z",
     "start_time": "2025-06-11T14:54:56.201481Z"
    }
   },
   "cell_type": "code",
   "source": [
    "query3 = \"\"\"\n",
    "select b.owner_mbr_nbr, a.buyer_nbr, a.lot_nbr, c.inv_dt\n",
    "from `cprtpr-dataplatform-sp1`.usviews.v_us_bids_fact a\n",
    "    join `cprtpr-dataplatform-sp1`.usviews.v_us_member_fact b\n",
    "    on a.buyer_nbr = b.mbr_nbr\n",
    "    join `cprtpr-dataplatform-sp1`.usviews.v_us_lot_fact c\n",
    "    on a.lot_nbr = c.lot_nbr\n",
    "where c.inv_dt >= '2024-12-01'\n",
    "    and mbr_mbrshp_type_cd in ('PREMIER')\n",
    "\"\"\"\n",
    "\n",
    "data_PMs_bids_lotssold_6months = client.query(query3).to_dataframe()"
   ],
   "id": "7fb9ecc0907e679e",
   "outputs": [],
   "execution_count": 3
  },
  {
   "metadata": {
    "ExecuteTime": {
     "end_time": "2025-06-11T14:59:30.810511Z",
     "start_time": "2025-06-11T14:59:30.803690Z"
    }
   },
   "cell_type": "code",
   "source": "data_PMs_bids_lotssold_6months",
   "id": "994272455d15f547",
   "outputs": [
    {
     "data": {
      "text/plain": [
       "          owner_mbr_nbr  buyer_nbr   lot_nbr      inv_dt\n",
       "0                100053     100053  82559854  2024-12-14\n",
       "1                834146     834146  82559854  2024-12-14\n",
       "2                100053     100053  82557504  2024-12-14\n",
       "3                967608     967608  82556094  2024-12-25\n",
       "4                967608     967608  82556094  2024-12-25\n",
       "...                 ...        ...       ...         ...\n",
       "84294321         251438     251438  53139255  2025-06-10\n",
       "84294322         531689     596921  53137875  2025-06-10\n",
       "84294323         572858     572858  53123905  2025-06-10\n",
       "84294324         893317     893317  53138135  2025-06-10\n",
       "84294325         948008     948008  53133645  2025-06-10\n",
       "\n",
       "[84294326 rows x 4 columns]"
      ],
      "text/html": [
       "<div>\n",
       "<style scoped>\n",
       "    .dataframe tbody tr th:only-of-type {\n",
       "        vertical-align: middle;\n",
       "    }\n",
       "\n",
       "    .dataframe tbody tr th {\n",
       "        vertical-align: top;\n",
       "    }\n",
       "\n",
       "    .dataframe thead th {\n",
       "        text-align: right;\n",
       "    }\n",
       "</style>\n",
       "<table border=\"1\" class=\"dataframe\">\n",
       "  <thead>\n",
       "    <tr style=\"text-align: right;\">\n",
       "      <th></th>\n",
       "      <th>owner_mbr_nbr</th>\n",
       "      <th>buyer_nbr</th>\n",
       "      <th>lot_nbr</th>\n",
       "      <th>inv_dt</th>\n",
       "    </tr>\n",
       "  </thead>\n",
       "  <tbody>\n",
       "    <tr>\n",
       "      <th>0</th>\n",
       "      <td>100053</td>\n",
       "      <td>100053</td>\n",
       "      <td>82559854</td>\n",
       "      <td>2024-12-14</td>\n",
       "    </tr>\n",
       "    <tr>\n",
       "      <th>1</th>\n",
       "      <td>834146</td>\n",
       "      <td>834146</td>\n",
       "      <td>82559854</td>\n",
       "      <td>2024-12-14</td>\n",
       "    </tr>\n",
       "    <tr>\n",
       "      <th>2</th>\n",
       "      <td>100053</td>\n",
       "      <td>100053</td>\n",
       "      <td>82557504</td>\n",
       "      <td>2024-12-14</td>\n",
       "    </tr>\n",
       "    <tr>\n",
       "      <th>3</th>\n",
       "      <td>967608</td>\n",
       "      <td>967608</td>\n",
       "      <td>82556094</td>\n",
       "      <td>2024-12-25</td>\n",
       "    </tr>\n",
       "    <tr>\n",
       "      <th>4</th>\n",
       "      <td>967608</td>\n",
       "      <td>967608</td>\n",
       "      <td>82556094</td>\n",
       "      <td>2024-12-25</td>\n",
       "    </tr>\n",
       "    <tr>\n",
       "      <th>...</th>\n",
       "      <td>...</td>\n",
       "      <td>...</td>\n",
       "      <td>...</td>\n",
       "      <td>...</td>\n",
       "    </tr>\n",
       "    <tr>\n",
       "      <th>84294321</th>\n",
       "      <td>251438</td>\n",
       "      <td>251438</td>\n",
       "      <td>53139255</td>\n",
       "      <td>2025-06-10</td>\n",
       "    </tr>\n",
       "    <tr>\n",
       "      <th>84294322</th>\n",
       "      <td>531689</td>\n",
       "      <td>596921</td>\n",
       "      <td>53137875</td>\n",
       "      <td>2025-06-10</td>\n",
       "    </tr>\n",
       "    <tr>\n",
       "      <th>84294323</th>\n",
       "      <td>572858</td>\n",
       "      <td>572858</td>\n",
       "      <td>53123905</td>\n",
       "      <td>2025-06-10</td>\n",
       "    </tr>\n",
       "    <tr>\n",
       "      <th>84294324</th>\n",
       "      <td>893317</td>\n",
       "      <td>893317</td>\n",
       "      <td>53138135</td>\n",
       "      <td>2025-06-10</td>\n",
       "    </tr>\n",
       "    <tr>\n",
       "      <th>84294325</th>\n",
       "      <td>948008</td>\n",
       "      <td>948008</td>\n",
       "      <td>53133645</td>\n",
       "      <td>2025-06-10</td>\n",
       "    </tr>\n",
       "  </tbody>\n",
       "</table>\n",
       "<p>84294326 rows × 4 columns</p>\n",
       "</div>"
      ]
     },
     "execution_count": 4,
     "metadata": {},
     "output_type": "execute_result"
    }
   ],
   "execution_count": 4
  },
  {
   "metadata": {
    "ExecuteTime": {
     "end_time": "2025-06-11T14:59:34.601411Z",
     "start_time": "2025-06-11T14:59:34.599228Z"
    }
   },
   "cell_type": "code",
   "source": "data_PMs_bids_lotssold_6months.shape",
   "id": "771c18f082720181",
   "outputs": [
    {
     "data": {
      "text/plain": [
       "(84294326, 4)"
      ]
     },
     "execution_count": 5,
     "metadata": {},
     "output_type": "execute_result"
    }
   ],
   "execution_count": 5
  },
  {
   "metadata": {
    "ExecuteTime": {
     "end_time": "2025-06-11T14:59:44.926238Z",
     "start_time": "2025-06-11T14:59:44.669275Z"
    }
   },
   "cell_type": "code",
   "source": "data_PMs_bids_lotssold_6months['owner_mbr_nbr'].duplicated().sum()",
   "id": "f3cb28fd18d4e20e",
   "outputs": [
    {
     "data": {
      "text/plain": [
       "np.int64(84221692)"
      ]
     },
     "execution_count": 6,
     "metadata": {},
     "output_type": "execute_result"
    }
   ],
   "execution_count": 6
  },
  {
   "metadata": {
    "ExecuteTime": {
     "end_time": "2025-06-11T14:59:54.466405Z",
     "start_time": "2025-06-11T14:59:54.201986Z"
    }
   },
   "cell_type": "code",
   "source": "data_PMs_bids_lotssold_6months = data_PMs_bids_lotssold_6months.drop_duplicates(['owner_mbr_nbr'])",
   "id": "d8107a48178b5dac",
   "outputs": [],
   "execution_count": 7
  },
  {
   "metadata": {
    "ExecuteTime": {
     "end_time": "2025-06-11T15:00:07.730660Z",
     "start_time": "2025-06-11T15:00:07.726407Z"
    }
   },
   "cell_type": "code",
   "source": "data_PMs_bids_lotssold_6months['buyer_nbr'].nunique()",
   "id": "b00ae78a91f8c13b",
   "outputs": [
    {
     "data": {
      "text/plain": [
       "72634"
      ]
     },
     "execution_count": 8,
     "metadata": {},
     "output_type": "execute_result"
    }
   ],
   "execution_count": 8
  },
  {
   "metadata": {
    "ExecuteTime": {
     "end_time": "2025-06-11T15:00:10.059029Z",
     "start_time": "2025-06-11T15:00:10.054919Z"
    }
   },
   "cell_type": "code",
   "source": "data_PMs_bids_lotssold_6months.isnull().sum()",
   "id": "a3321178cda1d62a",
   "outputs": [
    {
     "data": {
      "text/plain": [
       "owner_mbr_nbr    0\n",
       "buyer_nbr        0\n",
       "lot_nbr          0\n",
       "inv_dt           0\n",
       "dtype: int64"
      ]
     },
     "execution_count": 9,
     "metadata": {},
     "output_type": "execute_result"
    }
   ],
   "execution_count": 9
  },
  {
   "metadata": {
    "ExecuteTime": {
     "end_time": "2025-06-11T15:00:17.140005Z",
     "start_time": "2025-06-11T15:00:17.056123Z"
    }
   },
   "cell_type": "code",
   "source": [
    "## Extracting month from the auction date\n",
    "\n",
    "data_PMs_bids_lotssold_6months['inv_dt'] = pd.to_datetime(data_PMs_bids_lotssold_6months['inv_dt'])\n",
    "data_PMs_bids_lotssold_6months['inv_dt_month'] = data_PMs_bids_lotssold_6months['inv_dt'].dt.month\n",
    "\n",
    "data_PMs_bids_lotssold_6months_Dec_to_May = data_PMs_bids_lotssold_6months[data_PMs_bids_lotssold_6months['inv_dt_month'].isin([12, 1, 2, 3, 4, 5])]\n",
    "data_PMs_bids_lotssold_6months_May = data_PMs_bids_lotssold_6months[data_PMs_bids_lotssold_6months['inv_dt_month'] == 5]\n",
    "data_PMs_bids_lotssold_6months_March_to_May = data_PMs_bids_lotssold_6months[data_PMs_bids_lotssold_6months['inv_dt_month'].isin([3, 4, 5])]"
   ],
   "id": "935af81d2499b6b8",
   "outputs": [],
   "execution_count": 10
  },
  {
   "metadata": {
    "ExecuteTime": {
     "end_time": "2025-06-11T15:00:19.381602Z",
     "start_time": "2025-06-11T15:00:19.376629Z"
    }
   },
   "cell_type": "code",
   "source": "data_PMs_bids_lotssold_6months",
   "id": "42bea70e370329ce",
   "outputs": [
    {
     "data": {
      "text/plain": [
       "          owner_mbr_nbr  buyer_nbr   lot_nbr     inv_dt  inv_dt_month\n",
       "0                100053     100053  82559854 2024-12-14            12\n",
       "1                834146     834146  82559854 2024-12-14            12\n",
       "3                967608     967608  82556094 2024-12-25            12\n",
       "5                357817     357817  82598024 2024-12-22            12\n",
       "6                638766     638766  82559854 2024-12-14            12\n",
       "...                 ...        ...       ...        ...           ...\n",
       "84200052         625025     625025  51410563 2025-06-10             6\n",
       "84217506          36749      36749  53993845 2025-06-10             6\n",
       "84225263         628768     628768  46293515 2025-06-10             6\n",
       "84261345         573668     573668  53729635 2025-06-10             6\n",
       "84276649         128806     128806  53527485 2025-06-10             6\n",
       "\n",
       "[72634 rows x 5 columns]"
      ],
      "text/html": [
       "<div>\n",
       "<style scoped>\n",
       "    .dataframe tbody tr th:only-of-type {\n",
       "        vertical-align: middle;\n",
       "    }\n",
       "\n",
       "    .dataframe tbody tr th {\n",
       "        vertical-align: top;\n",
       "    }\n",
       "\n",
       "    .dataframe thead th {\n",
       "        text-align: right;\n",
       "    }\n",
       "</style>\n",
       "<table border=\"1\" class=\"dataframe\">\n",
       "  <thead>\n",
       "    <tr style=\"text-align: right;\">\n",
       "      <th></th>\n",
       "      <th>owner_mbr_nbr</th>\n",
       "      <th>buyer_nbr</th>\n",
       "      <th>lot_nbr</th>\n",
       "      <th>inv_dt</th>\n",
       "      <th>inv_dt_month</th>\n",
       "    </tr>\n",
       "  </thead>\n",
       "  <tbody>\n",
       "    <tr>\n",
       "      <th>0</th>\n",
       "      <td>100053</td>\n",
       "      <td>100053</td>\n",
       "      <td>82559854</td>\n",
       "      <td>2024-12-14</td>\n",
       "      <td>12</td>\n",
       "    </tr>\n",
       "    <tr>\n",
       "      <th>1</th>\n",
       "      <td>834146</td>\n",
       "      <td>834146</td>\n",
       "      <td>82559854</td>\n",
       "      <td>2024-12-14</td>\n",
       "      <td>12</td>\n",
       "    </tr>\n",
       "    <tr>\n",
       "      <th>3</th>\n",
       "      <td>967608</td>\n",
       "      <td>967608</td>\n",
       "      <td>82556094</td>\n",
       "      <td>2024-12-25</td>\n",
       "      <td>12</td>\n",
       "    </tr>\n",
       "    <tr>\n",
       "      <th>5</th>\n",
       "      <td>357817</td>\n",
       "      <td>357817</td>\n",
       "      <td>82598024</td>\n",
       "      <td>2024-12-22</td>\n",
       "      <td>12</td>\n",
       "    </tr>\n",
       "    <tr>\n",
       "      <th>6</th>\n",
       "      <td>638766</td>\n",
       "      <td>638766</td>\n",
       "      <td>82559854</td>\n",
       "      <td>2024-12-14</td>\n",
       "      <td>12</td>\n",
       "    </tr>\n",
       "    <tr>\n",
       "      <th>...</th>\n",
       "      <td>...</td>\n",
       "      <td>...</td>\n",
       "      <td>...</td>\n",
       "      <td>...</td>\n",
       "      <td>...</td>\n",
       "    </tr>\n",
       "    <tr>\n",
       "      <th>84200052</th>\n",
       "      <td>625025</td>\n",
       "      <td>625025</td>\n",
       "      <td>51410563</td>\n",
       "      <td>2025-06-10</td>\n",
       "      <td>6</td>\n",
       "    </tr>\n",
       "    <tr>\n",
       "      <th>84217506</th>\n",
       "      <td>36749</td>\n",
       "      <td>36749</td>\n",
       "      <td>53993845</td>\n",
       "      <td>2025-06-10</td>\n",
       "      <td>6</td>\n",
       "    </tr>\n",
       "    <tr>\n",
       "      <th>84225263</th>\n",
       "      <td>628768</td>\n",
       "      <td>628768</td>\n",
       "      <td>46293515</td>\n",
       "      <td>2025-06-10</td>\n",
       "      <td>6</td>\n",
       "    </tr>\n",
       "    <tr>\n",
       "      <th>84261345</th>\n",
       "      <td>573668</td>\n",
       "      <td>573668</td>\n",
       "      <td>53729635</td>\n",
       "      <td>2025-06-10</td>\n",
       "      <td>6</td>\n",
       "    </tr>\n",
       "    <tr>\n",
       "      <th>84276649</th>\n",
       "      <td>128806</td>\n",
       "      <td>128806</td>\n",
       "      <td>53527485</td>\n",
       "      <td>2025-06-10</td>\n",
       "      <td>6</td>\n",
       "    </tr>\n",
       "  </tbody>\n",
       "</table>\n",
       "<p>72634 rows × 5 columns</p>\n",
       "</div>"
      ]
     },
     "execution_count": 11,
     "metadata": {},
     "output_type": "execute_result"
    }
   ],
   "execution_count": 11
  },
  {
   "metadata": {
    "ExecuteTime": {
     "end_time": "2025-06-11T15:00:41.237120Z",
     "start_time": "2025-06-11T15:00:41.232895Z"
    }
   },
   "cell_type": "code",
   "source": "data_PMs_bids_lotssold_6months_Dec_to_May['buyer_nbr'].nunique()",
   "id": "ff738280e078366f",
   "outputs": [
    {
     "data": {
      "text/plain": [
       "68380"
      ]
     },
     "execution_count": 15,
     "metadata": {},
     "output_type": "execute_result"
    }
   ],
   "execution_count": 15
  },
  {
   "metadata": {
    "ExecuteTime": {
     "end_time": "2025-06-11T15:00:55.286586Z",
     "start_time": "2025-06-11T15:00:55.282830Z"
    }
   },
   "cell_type": "code",
   "source": "data_PMs_bids_lotssold_6months_March_to_May['buyer_nbr'].nunique()",
   "id": "155611eb383a1b61",
   "outputs": [
    {
     "data": {
      "text/plain": [
       "24504"
      ]
     },
     "execution_count": 17,
     "metadata": {},
     "output_type": "execute_result"
    }
   ],
   "execution_count": 17
  },
  {
   "metadata": {
    "ExecuteTime": {
     "end_time": "2025-06-11T15:00:59.659271Z",
     "start_time": "2025-06-11T15:00:59.656881Z"
    }
   },
   "cell_type": "code",
   "source": "data_PMs_bids_lotssold_6months_May['buyer_nbr'].nunique()",
   "id": "89b7579fec733628",
   "outputs": [
    {
     "data": {
      "text/plain": [
       "8182"
      ]
     },
     "execution_count": 18,
     "metadata": {},
     "output_type": "execute_result"
    }
   ],
   "execution_count": 18
  },
  {
   "metadata": {
    "ExecuteTime": {
     "end_time": "2025-06-11T15:50:57.154811Z",
     "start_time": "2025-06-11T15:50:57.079227Z"
    }
   },
   "cell_type": "code",
   "source": "data_PMs_bids_lotssold_6months['inv_dt_month'].value_counts().sort_index().plot(kind='bar', figsize=(12, 6), title='Monthly Distribution of Sold Lots in US (2025) for Premier Members')",
   "id": "743a74aea4c4ec9f",
   "outputs": [
    {
     "data": {
      "text/plain": [
       "<Axes: title={'center': 'Monthly Distribution of Sold Lots in US (2025) for Premier Members'}, xlabel='inv_dt_month'>"
      ]
     },
     "execution_count": 32,
     "metadata": {},
     "output_type": "execute_result"
    },
    {
     "data": {
      "text/plain": [
       "<Figure size 1200x600 with 1 Axes>"
      ],
      "image/png": "[encoded data removed]"
     },
     "metadata": {},
     "output_type": "display_data"
    }
   ],
   "execution_count": 32
  },
  {
   "metadata": {},
   "cell_type": "markdown",
   "source": "### Q5. What is the category that Premier members fall into? Dismantler, Dealer etc?",
   "id": "69f5bfae736a79d9"
  },
  {
   "metadata": {
    "ExecuteTime": {
     "end_time": "2025-06-12T14:31:42.360762Z",
     "start_time": "2025-06-12T14:31:40.176111Z"
    }
   },
   "cell_type": "code",
   "source": [
    "query4 = \"\"\"\n",
    "select member_sgmnt_type, count(distinct owner_mbr_nbr) as member_count\n",
    "from `cprtpr-dataplatform-sp1`.usviews.v_us_member_fact\n",
    "where mbr_mbrshp_type_cd = 'PREMIER'\n",
    "group by member_sgmnt_type\n",
    "\"\"\"\n",
    "\n",
    "data_PM_type = client.query(query4).to_dataframe()"
   ],
   "id": "ebe5c627e67f2b38",
   "outputs": [],
   "execution_count": 3
  },
  {
   "metadata": {
    "ExecuteTime": {
     "end_time": "2025-06-12T14:31:42.378185Z",
     "start_time": "2025-06-12T14:31:42.372595Z"
    }
   },
   "cell_type": "code",
   "source": "data_PM_type",
   "id": "1b7cd50a5b3ffee0",
   "outputs": [
    {
     "data": {
      "text/plain": [
       "  member_sgmnt_type  member_count\n",
       "0          Exporter         21541\n",
       "1  General Business          3640\n",
       "2              None          4125\n",
       "3          Consumer         45356\n",
       "4        Dismantler          6491\n",
       "5            Dealer         23202"
      ],
      "text/html": [
       "<div>\n",
       "<style scoped>\n",
       "    .dataframe tbody tr th:only-of-type {\n",
       "        vertical-align: middle;\n",
       "    }\n",
       "\n",
       "    .dataframe tbody tr th {\n",
       "        vertical-align: top;\n",
       "    }\n",
       "\n",
       "    .dataframe thead th {\n",
       "        text-align: right;\n",
       "    }\n",
       "</style>\n",
       "<table border=\"1\" class=\"dataframe\">\n",
       "  <thead>\n",
       "    <tr style=\"text-align: right;\">\n",
       "      <th></th>\n",
       "      <th>member_sgmnt_type</th>\n",
       "      <th>member_count</th>\n",
       "    </tr>\n",
       "  </thead>\n",
       "  <tbody>\n",
       "    <tr>\n",
       "      <th>0</th>\n",
       "      <td>Exporter</td>\n",
       "      <td>21541</td>\n",
       "    </tr>\n",
       "    <tr>\n",
       "      <th>1</th>\n",
       "      <td>General Business</td>\n",
       "      <td>3640</td>\n",
       "    </tr>\n",
       "    <tr>\n",
       "      <th>2</th>\n",
       "      <td>None</td>\n",
       "      <td>4125</td>\n",
       "    </tr>\n",
       "    <tr>\n",
       "      <th>3</th>\n",
       "      <td>Consumer</td>\n",
       "      <td>45356</td>\n",
       "    </tr>\n",
       "    <tr>\n",
       "      <th>4</th>\n",
       "      <td>Dismantler</td>\n",
       "      <td>6491</td>\n",
       "    </tr>\n",
       "    <tr>\n",
       "      <th>5</th>\n",
       "      <td>Dealer</td>\n",
       "      <td>23202</td>\n",
       "    </tr>\n",
       "  </tbody>\n",
       "</table>\n",
       "</div>"
      ]
     },
     "execution_count": 4,
     "metadata": {},
     "output_type": "execute_result"
    }
   ],
   "execution_count": 4
  },
  {
   "metadata": {},
   "cell_type": "markdown",
   "source": "### Q6. Where are the Premier members located? Top 10 countries and volume(lots sold) in the last 6 months",
   "id": "460130afe96ddd3b"
  },
  {
   "metadata": {
    "ExecuteTime": {
     "end_time": "2025-06-16T19:37:50.993604Z",
     "start_time": "2025-06-16T19:37:22.228733Z"
    }
   },
   "cell_type": "code",
   "source": [
    "query5 = \"\"\"\n",
    "select mbr_country_desc, count(distinct owner_mbr_nbr) as member_count, count(distinct lot_nbr) as lots_bought\n",
    "from `cprtpr-dataplatform-sp1`.usviews.v_us_member_fact m\n",
    "join `cprtpr-dataplatform-sp1`.usviews.v_us_lot_fact l\n",
    "on m.owner_mbr_nbr = l.owner_buyer_nbr\n",
    "where mbr_mbrshp_type_cd = 'PREMIER' and inv_dt between '2024-12-01' and '2025-05-31'\n",
    "group by mbr_country_desc\n",
    "\"\"\"\n",
    "\n",
    "data_PM_country = client.query(query5).to_dataframe()"
   ],
   "id": "2fb3e8e90ca23f56",
   "outputs": [],
   "execution_count": 169
  },
  {
   "metadata": {
    "ExecuteTime": {
     "end_time": "2025-06-16T19:37:51.042963Z",
     "start_time": "2025-06-16T19:37:51.039046Z"
    }
   },
   "cell_type": "code",
   "source": "data_PM_country",
   "id": "dae79eb28b591031",
   "outputs": [
    {
     "data": {
      "text/plain": [
       "         mbr_country_desc  member_count  lots_bought\n",
       "0             SOUTH KOREA             8           52\n",
       "1               MACEDONIA             1            2\n",
       "2               VENEZUELA             7           91\n",
       "3              KYRGYZSTAN             2           75\n",
       "4                   BENIN            34         1594\n",
       "..                    ...           ...          ...\n",
       "117               BAHRAIN             3            4\n",
       "118             ARGENTINA             1            1\n",
       "119            COSTA RICA            79         2332\n",
       "120             NICARAGUA             9          164\n",
       "121  MOLDOVA, REPUBLIC OF            26         1854\n",
       "\n",
       "[122 rows x 3 columns]"
      ],
      "text/html": [
       "<div>\n",
       "<style scoped>\n",
       "    .dataframe tbody tr th:only-of-type {\n",
       "        vertical-align: middle;\n",
       "    }\n",
       "\n",
       "    .dataframe tbody tr th {\n",
       "        vertical-align: top;\n",
       "    }\n",
       "\n",
       "    .dataframe thead th {\n",
       "        text-align: right;\n",
       "    }\n",
       "</style>\n",
       "<table border=\"1\" class=\"dataframe\">\n",
       "  <thead>\n",
       "    <tr style=\"text-align: right;\">\n",
       "      <th></th>\n",
       "      <th>mbr_country_desc</th>\n",
       "      <th>member_count</th>\n",
       "      <th>lots_bought</th>\n",
       "    </tr>\n",
       "  </thead>\n",
       "  <tbody>\n",
       "    <tr>\n",
       "      <th>0</th>\n",
       "      <td>SOUTH KOREA</td>\n",
       "      <td>8</td>\n",
       "      <td>52</td>\n",
       "    </tr>\n",
       "    <tr>\n",
       "      <th>1</th>\n",
       "      <td>MACEDONIA</td>\n",
       "      <td>1</td>\n",
       "      <td>2</td>\n",
       "    </tr>\n",
       "    <tr>\n",
       "      <th>2</th>\n",
       "      <td>VENEZUELA</td>\n",
       "      <td>7</td>\n",
       "      <td>91</td>\n",
       "    </tr>\n",
       "    <tr>\n",
       "      <th>3</th>\n",
       "      <td>KYRGYZSTAN</td>\n",
       "      <td>2</td>\n",
       "      <td>75</td>\n",
       "    </tr>\n",
       "    <tr>\n",
       "      <th>4</th>\n",
       "      <td>BENIN</td>\n",
       "      <td>34</td>\n",
       "      <td>1594</td>\n",
       "    </tr>\n",
       "    <tr>\n",
       "      <th>...</th>\n",
       "      <td>...</td>\n",
       "      <td>...</td>\n",
       "      <td>...</td>\n",
       "    </tr>\n",
       "    <tr>\n",
       "      <th>117</th>\n",
       "      <td>BAHRAIN</td>\n",
       "      <td>3</td>\n",
       "      <td>4</td>\n",
       "    </tr>\n",
       "    <tr>\n",
       "      <th>118</th>\n",
       "      <td>ARGENTINA</td>\n",
       "      <td>1</td>\n",
       "      <td>1</td>\n",
       "    </tr>\n",
       "    <tr>\n",
       "      <th>119</th>\n",
       "      <td>COSTA RICA</td>\n",
       "      <td>79</td>\n",
       "      <td>2332</td>\n",
       "    </tr>\n",
       "    <tr>\n",
       "      <th>120</th>\n",
       "      <td>NICARAGUA</td>\n",
       "      <td>9</td>\n",
       "      <td>164</td>\n",
       "    </tr>\n",
       "    <tr>\n",
       "      <th>121</th>\n",
       "      <td>MOLDOVA, REPUBLIC OF</td>\n",
       "      <td>26</td>\n",
       "      <td>1854</td>\n",
       "    </tr>\n",
       "  </tbody>\n",
       "</table>\n",
       "<p>122 rows × 3 columns</p>\n",
       "</div>"
      ]
     },
     "execution_count": 170,
     "metadata": {},
     "output_type": "execute_result"
    }
   ],
   "execution_count": 170
  },
  {
   "metadata": {
    "ExecuteTime": {
     "end_time": "2025-06-16T19:38:28.821007Z",
     "start_time": "2025-06-16T19:38:28.816779Z"
    }
   },
   "cell_type": "code",
   "source": [
    "top10_countries = data_PM_country.nlargest(10, 'member_count')\n",
    "top10_countries"
   ],
   "id": "d61036ae6794fe43",
   "outputs": [
    {
     "data": {
      "text/plain": [
       "        mbr_country_desc  member_count  lots_bought\n",
       "43         UNITED STATES         39938      1173155\n",
       "27                MEXICO          3538       146588\n",
       "77                CANADA          2310        32289\n",
       "14             GUATEMALA          1924        34841\n",
       "18               NIGERIA          1256        34218\n",
       "24           EL SALVADOR          1001        23510\n",
       "23              HONDURAS           808        23821\n",
       "74  UNITED ARAB EMIRATES           435        65592\n",
       "31     GHANA,REPUBLIC OF           339         5685\n",
       "63               GEORGIA           288        75540"
      ],
      "text/html": [
       "<div>\n",
       "<style scoped>\n",
       "    .dataframe tbody tr th:only-of-type {\n",
       "        vertical-align: middle;\n",
       "    }\n",
       "\n",
       "    .dataframe tbody tr th {\n",
       "        vertical-align: top;\n",
       "    }\n",
       "\n",
       "    .dataframe thead th {\n",
       "        text-align: right;\n",
       "    }\n",
       "</style>\n",
       "<table border=\"1\" class=\"dataframe\">\n",
       "  <thead>\n",
       "    <tr style=\"text-align: right;\">\n",
       "      <th></th>\n",
       "      <th>mbr_country_desc</th>\n",
       "      <th>member_count</th>\n",
       "      <th>lots_bought</th>\n",
       "    </tr>\n",
       "  </thead>\n",
       "  <tbody>\n",
       "    <tr>\n",
       "      <th>43</th>\n",
       "      <td>UNITED STATES</td>\n",
       "      <td>39938</td>\n",
       "      <td>1173155</td>\n",
       "    </tr>\n",
       "    <tr>\n",
       "      <th>27</th>\n",
       "      <td>MEXICO</td>\n",
       "      <td>3538</td>\n",
       "      <td>146588</td>\n",
       "    </tr>\n",
       "    <tr>\n",
       "      <th>77</th>\n",
       "      <td>CANADA</td>\n",
       "      <td>2310</td>\n",
       "      <td>32289</td>\n",
       "    </tr>\n",
       "    <tr>\n",
       "      <th>14</th>\n",
       "      <td>GUATEMALA</td>\n",
       "      <td>1924</td>\n",
       "      <td>34841</td>\n",
       "    </tr>\n",
       "    <tr>\n",
       "      <th>18</th>\n",
       "      <td>NIGERIA</td>\n",
       "      <td>1256</td>\n",
       "      <td>34218</td>\n",
       "    </tr>\n",
       "    <tr>\n",
       "      <th>24</th>\n",
       "      <td>EL SALVADOR</td>\n",
       "      <td>1001</td>\n",
       "      <td>23510</td>\n",
       "    </tr>\n",
       "    <tr>\n",
       "      <th>23</th>\n",
       "      <td>HONDURAS</td>\n",
       "      <td>808</td>\n",
       "      <td>23821</td>\n",
       "    </tr>\n",
       "    <tr>\n",
       "      <th>74</th>\n",
       "      <td>UNITED ARAB EMIRATES</td>\n",
       "      <td>435</td>\n",
       "      <td>65592</td>\n",
       "    </tr>\n",
       "    <tr>\n",
       "      <th>31</th>\n",
       "      <td>GHANA,REPUBLIC OF</td>\n",
       "      <td>339</td>\n",
       "      <td>5685</td>\n",
       "    </tr>\n",
       "    <tr>\n",
       "      <th>63</th>\n",
       "      <td>GEORGIA</td>\n",
       "      <td>288</td>\n",
       "      <td>75540</td>\n",
       "    </tr>\n",
       "  </tbody>\n",
       "</table>\n",
       "</div>"
      ]
     },
     "execution_count": 172,
     "metadata": {},
     "output_type": "execute_result"
    }
   ],
   "execution_count": 172
  },
  {
   "metadata": {},
   "cell_type": "markdown",
   "source": "### Q7. Find count of members who placed bids on lots sold in the last 6 months but did not buy any lots?",
   "id": "71201baaacf4fc0f"
  },
  {
   "metadata": {},
   "cell_type": "markdown",
   "source": [
    "Steps -\n",
    "\n",
    "1. Join member_fact to bids_fact to get only Premier members\n",
    "\n",
    "2. Join bids_fact from above to lot_fact on lot number and filter on lots with inv_dt between Dec 2024 – May 2025\n",
    "\n",
    "3. This gives us the total bids placed on lots sold in 6 months\n",
    "\n",
    "4. Count distinct owner mbr nbr\n",
    "\n",
    "5. Join member fact to lot fact to get count of PMs who win in the last 6 months\n",
    "\n",
    "6. Subtract the two numbers to get count of PMs who placed a bid on the lots sold in 6 months but did not win"
   ],
   "id": "c6cd7c7e6863b7c4"
  },
  {
   "metadata": {
    "ExecuteTime": {
     "end_time": "2025-06-17T21:36:34.554189Z",
     "start_time": "2025-06-17T21:33:16.983673Z"
    }
   },
   "cell_type": "code",
   "source": [
    "query6 = \"\"\"\n",
    "select count(distinct m.owner_mbr_nbr)\n",
    "from `cprtpr-dataplatform-sp1`.usviews.v_us_bids_fact b\n",
    "join `cprtpr-dataplatform-sp1`.usviews.v_us_member_fact m\n",
    "on buyer_nbr = mbr_nbr\n",
    "join `cprtpr-dataplatform-sp1`.usviews.v_us_lot_fact l\n",
    "on b.lot_nbr = l.lot_nbr\n",
    "where inv_dt is not null and inv_dt between '2024-12-01' and '2025-05-31'  --- to include only lots sold in the last 6 months\n",
    "and m.mbr_mbrshp_type_cd = 'PREMIER' --- to include only Premier members\n",
    "\"\"\"\n",
    "\n",
    "data_PMs = client.query(query6).to_dataframe()"
   ],
   "id": "aa5714450a7931d9",
   "outputs": [],
   "execution_count": 163
  },
  {
   "metadata": {
    "ExecuteTime": {
     "end_time": "2025-06-18T17:52:34.592971Z",
     "start_time": "2025-06-18T17:52:34.590495Z"
    }
   },
   "cell_type": "code",
   "source": "print(\"Total PMs who placed a bid on the lots sold in the last 6 months: \", data_PMs['f0_'].values[0])",
   "id": "4d0628157d22b97d",
   "outputs": [
    {
     "name": "stdout",
     "output_type": "stream",
     "text": [
      "Total PMs who placed a bid on the lots sold in the last 6 months:  71329\n"
     ]
    }
   ],
   "execution_count": 223
  },
  {
   "metadata": {
    "ExecuteTime": {
     "end_time": "2025-06-18T17:56:14.561585Z",
     "start_time": "2025-06-18T17:56:12.516331Z"
    }
   },
   "cell_type": "code",
   "source": [
    "query61 = \"\"\"\n",
    "select count(distinct m.owner_mbr_nbr)\n",
    "from `cprtpr-dataplatform-sp1`.usviews.v_us_member_fact m\n",
    "join `cprtpr-dataplatform-sp1`.usviews.v_us_lot_fact l\n",
    "on m.owner_mbr_nbr = l.owner_buyer_nbr\n",
    "where inv_dt is not null and inv_dt between '2024-12-01' and '2025-05-31'  --- to include only lots sold in the last 6 months\n",
    "and m.mbr_mbrshp_type_cd = 'PREMIER' --- to include only Premier members\n",
    "\"\"\"\n",
    "\n",
    "data_PMs_win = client.query(query61).to_dataframe()"
   ],
   "id": "a10ad4d7e081104e",
   "outputs": [],
   "execution_count": 227
  },
  {
   "metadata": {
    "ExecuteTime": {
     "end_time": "2025-06-18T17:56:24.450771Z",
     "start_time": "2025-06-18T17:56:24.448323Z"
    }
   },
   "cell_type": "code",
   "source": "print(\"Total PMs who won the lots sold in the last 6 months: \", data_PMs_win['f0_'].values[0])",
   "id": "48c5ed432d5e88fb",
   "outputs": [
    {
     "name": "stdout",
     "output_type": "stream",
     "text": [
      "Total PMs who won the lots sold in the last 6 months:  54097\n"
     ]
    }
   ],
   "execution_count": 228
  },
  {
   "metadata": {
    "ExecuteTime": {
     "end_time": "2025-06-18T18:05:00.399123Z",
     "start_time": "2025-06-18T18:01:48.533856Z"
    }
   },
   "cell_type": "code",
   "source": [
    "query62 = \"\"\"\n",
    "select count(distinct m.owner_mbr_nbr)\n",
    "from `cprtpr-dataplatform-sp1`.usviews.v_us_bids_fact b\n",
    "join `cprtpr-dataplatform-sp1`.usviews.v_us_member_fact m\n",
    "on buyer_nbr = mbr_nbr\n",
    "join `cprtpr-dataplatform-sp1`.usviews.v_us_lot_fact l\n",
    "on b.lot_nbr = l.lot_nbr\n",
    "where inv_dt is not null and inv_dt between '2024-12-01' and '2025-05-31'  --- to include only lots sold in the last 6 months\n",
    "and m.mbr_mbrshp_type_cd = 'PREMIER' --- to include only Premier members\n",
    "and owner_mbr_nbr not in (select distinct m.owner_mbr_nbr\n",
    "from `cprtpr-dataplatform-sp1`.usviews.v_us_member_fact m\n",
    "join `cprtpr-dataplatform-sp1`.usviews.v_us_lot_fact l\n",
    "on m.owner_mbr_nbr = l.owner_buyer_nbr\n",
    "where inv_dt is not null and inv_dt between '2024-12-01' and '2025-05-31'  --- to include only lots sold in the last 6 months\n",
    "and m.mbr_mbrshp_type_cd = 'PREMIER' )\n",
    "\"\"\"\n",
    "\n",
    "data_PMs_bids_no_wins = client.query(query62).to_dataframe()"
   ],
   "id": "9ab08e991a1911f7",
   "outputs": [],
   "execution_count": 231
  },
  {
   "metadata": {
    "ExecuteTime": {
     "end_time": "2025-06-18T18:05:45.555034Z",
     "start_time": "2025-06-18T18:05:45.552628Z"
    }
   },
   "cell_type": "code",
   "source": "print(\"Total PMs who won the lots sold in the last 6 months: \", data_PMs_bids_no_wins['f0_'].values[0])",
   "id": "550e00831cb76abd",
   "outputs": [
    {
     "name": "stdout",
     "output_type": "stream",
     "text": [
      "Total PMs who won the lots sold in the last 6 months:  17247\n"
     ]
    }
   ],
   "execution_count": 232
  },
  {
   "metadata": {},
   "cell_type": "markdown",
   "source": "### Q8. Find member win %? Definition- # of PMs bought at least 1 lot/(# of PMs who placed at least one bid). Do this month over month over last 12 months for lots sold",
   "id": "5c306640d4c6f2b3"
  },
  {
   "metadata": {},
   "cell_type": "markdown",
   "source": [
    "Steps -\n",
    "\n",
    "* Numerator:\n",
    "\n",
    "1. Join member_fact to lot_fact to get list of PMs who won lots\n",
    "\n",
    "2. Filter on lots sold between June 2024 – May 2025\n",
    "\n",
    "3. Group by month from inv_dt and count distinct PMs"
   ],
   "id": "26d2bc8e8887d859"
  },
  {
   "metadata": {
    "ExecuteTime": {
     "end_time": "2025-06-18T14:23:39.496782Z",
     "start_time": "2025-06-18T14:23:37.372966Z"
    }
   },
   "cell_type": "code",
   "source": [
    "## People who won lots in the last 12 months, month by month\n",
    "\n",
    "query7 = \"\"\"\n",
    "select extract(month from inv_dt) as month, count(distinct m.owner_mbr_nbr)\n",
    "from `cprtpr-dataplatform-sp1`.usviews.v_us_lot_fact l\n",
    "join `cprtpr-dataplatform-sp1`.usviews.v_us_member_fact m\n",
    "on l.owner_buyer_nbr = m.owner_mbr_nbr\n",
    "where mbr_mbrshp_type_cd = 'PREMIER'  --- to include only Premier members\n",
    "and inv_dt is not null and inv_dt between '2024-06-01' and '2025-05-31'  --- to include only lots sold in the last 12 months\n",
    "    group by month\n",
    "\"\"\"\n",
    "\n",
    "data_PMs_won_in_one_year = client.query(query7).to_dataframe()"
   ],
   "id": "5f080dc2e289a69d",
   "outputs": [],
   "execution_count": 186
  },
  {
   "metadata": {
    "ExecuteTime": {
     "end_time": "2025-06-18T14:24:03.663024Z",
     "start_time": "2025-06-18T14:24:03.659289Z"
    }
   },
   "cell_type": "code",
   "source": "data_PMs_won_in_one_year",
   "id": "7f0a3ec9bc1f97cd",
   "outputs": [
    {
     "data": {
      "text/plain": [
       "    month    f0_\n",
       "0       1  28488\n",
       "1       9  26535\n",
       "2       7  24725\n",
       "3       6  23271\n",
       "4       5  28433\n",
       "5       3  29685\n",
       "6       2  28351\n",
       "7      11  27057\n",
       "8      12  27353\n",
       "9       8  26284\n",
       "10      4  29907\n",
       "11     10  28085"
      ],
      "text/html": [
       "<div>\n",
       "<style scoped>\n",
       "    .dataframe tbody tr th:only-of-type {\n",
       "        vertical-align: middle;\n",
       "    }\n",
       "\n",
       "    .dataframe tbody tr th {\n",
       "        vertical-align: top;\n",
       "    }\n",
       "\n",
       "    .dataframe thead th {\n",
       "        text-align: right;\n",
       "    }\n",
       "</style>\n",
       "<table border=\"1\" class=\"dataframe\">\n",
       "  <thead>\n",
       "    <tr style=\"text-align: right;\">\n",
       "      <th></th>\n",
       "      <th>month</th>\n",
       "      <th>f0_</th>\n",
       "    </tr>\n",
       "  </thead>\n",
       "  <tbody>\n",
       "    <tr>\n",
       "      <th>0</th>\n",
       "      <td>1</td>\n",
       "      <td>28488</td>\n",
       "    </tr>\n",
       "    <tr>\n",
       "      <th>1</th>\n",
       "      <td>9</td>\n",
       "      <td>26535</td>\n",
       "    </tr>\n",
       "    <tr>\n",
       "      <th>2</th>\n",
       "      <td>7</td>\n",
       "      <td>24725</td>\n",
       "    </tr>\n",
       "    <tr>\n",
       "      <th>3</th>\n",
       "      <td>6</td>\n",
       "      <td>23271</td>\n",
       "    </tr>\n",
       "    <tr>\n",
       "      <th>4</th>\n",
       "      <td>5</td>\n",
       "      <td>28433</td>\n",
       "    </tr>\n",
       "    <tr>\n",
       "      <th>5</th>\n",
       "      <td>3</td>\n",
       "      <td>29685</td>\n",
       "    </tr>\n",
       "    <tr>\n",
       "      <th>6</th>\n",
       "      <td>2</td>\n",
       "      <td>28351</td>\n",
       "    </tr>\n",
       "    <tr>\n",
       "      <th>7</th>\n",
       "      <td>11</td>\n",
       "      <td>27057</td>\n",
       "    </tr>\n",
       "    <tr>\n",
       "      <th>8</th>\n",
       "      <td>12</td>\n",
       "      <td>27353</td>\n",
       "    </tr>\n",
       "    <tr>\n",
       "      <th>9</th>\n",
       "      <td>8</td>\n",
       "      <td>26284</td>\n",
       "    </tr>\n",
       "    <tr>\n",
       "      <th>10</th>\n",
       "      <td>4</td>\n",
       "      <td>29907</td>\n",
       "    </tr>\n",
       "    <tr>\n",
       "      <th>11</th>\n",
       "      <td>10</td>\n",
       "      <td>28085</td>\n",
       "    </tr>\n",
       "  </tbody>\n",
       "</table>\n",
       "</div>"
      ]
     },
     "execution_count": 187,
     "metadata": {},
     "output_type": "execute_result"
    }
   ],
   "execution_count": 187
  },
  {
   "metadata": {},
   "cell_type": "markdown",
   "source": [
    "Steps -\n",
    "\n",
    "* Denominator:\n",
    "\n",
    "1. Join bids_fact to member_fact to get all PMs who placed a bid\n",
    "\n",
    "2. Join the above with lot_fact on lot number to get bids that were placed on lots sold\n",
    "\n",
    "3. Filter on lots sold between June 2024 – May 2025\n",
    "\n",
    "4. Group by month from inv_dt and count distinct PMs"
   ],
   "id": "b14183807d615f7"
  },
  {
   "metadata": {
    "ExecuteTime": {
     "end_time": "2025-06-18T14:35:36.488474Z",
     "start_time": "2025-06-18T14:30:34.647677Z"
    }
   },
   "cell_type": "code",
   "source": [
    "## People who placed bids on the winning lots in the last 12 months, month by month\n",
    "\n",
    "query8 = \"\"\"\n",
    "select extract(month from inv_dt) as month, count(distinct m.owner_mbr_nbr)\n",
    "from `cprtpr-dataplatform-sp1`.usviews.v_us_bids_fact b\n",
    "join `cprtpr-dataplatform-sp1`.usviews.v_us_member_fact m\n",
    "on buyer_nbr = mbr_nbr\n",
    "join `cprtpr-dataplatform-sp1`.usviews.v_us_lot_fact l\n",
    "on b.lot_nbr = l.lot_nbr  ---  to get winning lots\n",
    "where inv_dt is not null and inv_dt between '2024-06-01' and '2025-05-31'   --- to include only lots sold in the last 12 months\n",
    "and m.mbr_mbrshp_type_cd = 'PREMIER'  --- to include only Premier members\n",
    "    group by month\n",
    "\"\"\"\n",
    "\n",
    "data_PMs_bids_in_one_year = client.query(query8).to_dataframe()"
   ],
   "id": "218610755500cc4b",
   "outputs": [],
   "execution_count": 193
  },
  {
   "metadata": {
    "ExecuteTime": {
     "end_time": "2025-06-18T14:36:13.213766Z",
     "start_time": "2025-06-18T14:36:13.210325Z"
    }
   },
   "cell_type": "code",
   "source": "data_PMs_bids_in_one_year",
   "id": "f6c1318444155634",
   "outputs": [
    {
     "data": {
      "text/plain": [
       "    month    f0_\n",
       "0       1  45202\n",
       "1       5  46429\n",
       "2       4  47802\n",
       "3       9  40421\n",
       "4       3  47034\n",
       "5      12  43037\n",
       "6       7  37053\n",
       "7       2  45382\n",
       "8       6  34853\n",
       "9      11  42043\n",
       "10     10  42365\n",
       "11      8  39332"
      ],
      "text/html": [
       "<div>\n",
       "<style scoped>\n",
       "    .dataframe tbody tr th:only-of-type {\n",
       "        vertical-align: middle;\n",
       "    }\n",
       "\n",
       "    .dataframe tbody tr th {\n",
       "        vertical-align: top;\n",
       "    }\n",
       "\n",
       "    .dataframe thead th {\n",
       "        text-align: right;\n",
       "    }\n",
       "</style>\n",
       "<table border=\"1\" class=\"dataframe\">\n",
       "  <thead>\n",
       "    <tr style=\"text-align: right;\">\n",
       "      <th></th>\n",
       "      <th>month</th>\n",
       "      <th>f0_</th>\n",
       "    </tr>\n",
       "  </thead>\n",
       "  <tbody>\n",
       "    <tr>\n",
       "      <th>0</th>\n",
       "      <td>1</td>\n",
       "      <td>45202</td>\n",
       "    </tr>\n",
       "    <tr>\n",
       "      <th>1</th>\n",
       "      <td>5</td>\n",
       "      <td>46429</td>\n",
       "    </tr>\n",
       "    <tr>\n",
       "      <th>2</th>\n",
       "      <td>4</td>\n",
       "      <td>47802</td>\n",
       "    </tr>\n",
       "    <tr>\n",
       "      <th>3</th>\n",
       "      <td>9</td>\n",
       "      <td>40421</td>\n",
       "    </tr>\n",
       "    <tr>\n",
       "      <th>4</th>\n",
       "      <td>3</td>\n",
       "      <td>47034</td>\n",
       "    </tr>\n",
       "    <tr>\n",
       "      <th>5</th>\n",
       "      <td>12</td>\n",
       "      <td>43037</td>\n",
       "    </tr>\n",
       "    <tr>\n",
       "      <th>6</th>\n",
       "      <td>7</td>\n",
       "      <td>37053</td>\n",
       "    </tr>\n",
       "    <tr>\n",
       "      <th>7</th>\n",
       "      <td>2</td>\n",
       "      <td>45382</td>\n",
       "    </tr>\n",
       "    <tr>\n",
       "      <th>8</th>\n",
       "      <td>6</td>\n",
       "      <td>34853</td>\n",
       "    </tr>\n",
       "    <tr>\n",
       "      <th>9</th>\n",
       "      <td>11</td>\n",
       "      <td>42043</td>\n",
       "    </tr>\n",
       "    <tr>\n",
       "      <th>10</th>\n",
       "      <td>10</td>\n",
       "      <td>42365</td>\n",
       "    </tr>\n",
       "    <tr>\n",
       "      <th>11</th>\n",
       "      <td>8</td>\n",
       "      <td>39332</td>\n",
       "    </tr>\n",
       "  </tbody>\n",
       "</table>\n",
       "</div>"
      ]
     },
     "execution_count": 194,
     "metadata": {},
     "output_type": "execute_result"
    }
   ],
   "execution_count": 194
  },
  {
   "metadata": {},
   "cell_type": "markdown",
   "source": "* Merging numerator and denominator on month",
   "id": "e940260fa175594f"
  },
  {
   "metadata": {
    "ExecuteTime": {
     "end_time": "2025-06-18T14:38:32.367843Z",
     "start_time": "2025-06-18T14:38:32.364911Z"
    }
   },
   "cell_type": "code",
   "source": [
    "abc = pd.merge(data_PMs_won_in_one_year, data_PMs_bids_in_one_year, on='month', how='inner')\n",
    "abc.rename(columns={'f0__x': 'bids_won', 'f0__y':'bids placed'}, inplace=True)"
   ],
   "id": "c307ce2abf64f4a9",
   "outputs": [],
   "execution_count": 198
  },
  {
   "metadata": {
    "ExecuteTime": {
     "end_time": "2025-06-18T14:38:37.838851Z",
     "start_time": "2025-06-18T14:38:37.834802Z"
    }
   },
   "cell_type": "code",
   "source": "abc",
   "id": "a2ee5c89f901f33f",
   "outputs": [
    {
     "data": {
      "text/plain": [
       "    month  bids_won  bids placed\n",
       "0       1     28488        45202\n",
       "1       9     26535        40421\n",
       "2       7     24725        37053\n",
       "3       6     23271        34853\n",
       "4       5     28433        46429\n",
       "5       3     29685        47034\n",
       "6       2     28351        45382\n",
       "7      11     27057        42043\n",
       "8      12     27353        43037\n",
       "9       8     26284        39332\n",
       "10      4     29907        47802\n",
       "11     10     28085        42365"
      ],
      "text/html": [
       "<div>\n",
       "<style scoped>\n",
       "    .dataframe tbody tr th:only-of-type {\n",
       "        vertical-align: middle;\n",
       "    }\n",
       "\n",
       "    .dataframe tbody tr th {\n",
       "        vertical-align: top;\n",
       "    }\n",
       "\n",
       "    .dataframe thead th {\n",
       "        text-align: right;\n",
       "    }\n",
       "</style>\n",
       "<table border=\"1\" class=\"dataframe\">\n",
       "  <thead>\n",
       "    <tr style=\"text-align: right;\">\n",
       "      <th></th>\n",
       "      <th>month</th>\n",
       "      <th>bids_won</th>\n",
       "      <th>bids placed</th>\n",
       "    </tr>\n",
       "  </thead>\n",
       "  <tbody>\n",
       "    <tr>\n",
       "      <th>0</th>\n",
       "      <td>1</td>\n",
       "      <td>28488</td>\n",
       "      <td>45202</td>\n",
       "    </tr>\n",
       "    <tr>\n",
       "      <th>1</th>\n",
       "      <td>9</td>\n",
       "      <td>26535</td>\n",
       "      <td>40421</td>\n",
       "    </tr>\n",
       "    <tr>\n",
       "      <th>2</th>\n",
       "      <td>7</td>\n",
       "      <td>24725</td>\n",
       "      <td>37053</td>\n",
       "    </tr>\n",
       "    <tr>\n",
       "      <th>3</th>\n",
       "      <td>6</td>\n",
       "      <td>23271</td>\n",
       "      <td>34853</td>\n",
       "    </tr>\n",
       "    <tr>\n",
       "      <th>4</th>\n",
       "      <td>5</td>\n",
       "      <td>28433</td>\n",
       "      <td>46429</td>\n",
       "    </tr>\n",
       "    <tr>\n",
       "      <th>5</th>\n",
       "      <td>3</td>\n",
       "      <td>29685</td>\n",
       "      <td>47034</td>\n",
       "    </tr>\n",
       "    <tr>\n",
       "      <th>6</th>\n",
       "      <td>2</td>\n",
       "      <td>28351</td>\n",
       "      <td>45382</td>\n",
       "    </tr>\n",
       "    <tr>\n",
       "      <th>7</th>\n",
       "      <td>11</td>\n",
       "      <td>27057</td>\n",
       "      <td>42043</td>\n",
       "    </tr>\n",
       "    <tr>\n",
       "      <th>8</th>\n",
       "      <td>12</td>\n",
       "      <td>27353</td>\n",
       "      <td>43037</td>\n",
       "    </tr>\n",
       "    <tr>\n",
       "      <th>9</th>\n",
       "      <td>8</td>\n",
       "      <td>26284</td>\n",
       "      <td>39332</td>\n",
       "    </tr>\n",
       "    <tr>\n",
       "      <th>10</th>\n",
       "      <td>4</td>\n",
       "      <td>29907</td>\n",
       "      <td>47802</td>\n",
       "    </tr>\n",
       "    <tr>\n",
       "      <th>11</th>\n",
       "      <td>10</td>\n",
       "      <td>28085</td>\n",
       "      <td>42365</td>\n",
       "    </tr>\n",
       "  </tbody>\n",
       "</table>\n",
       "</div>"
      ]
     },
     "execution_count": 199,
     "metadata": {},
     "output_type": "execute_result"
    }
   ],
   "execution_count": 199
  },
  {
   "metadata": {},
   "cell_type": "markdown",
   "source": "* Calculating win %",
   "id": "ae9f9ff33fdd9a10"
  },
  {
   "metadata": {
    "ExecuteTime": {
     "end_time": "2025-06-18T14:38:46.796621Z",
     "start_time": "2025-06-18T14:38:46.790785Z"
    }
   },
   "cell_type": "code",
   "source": [
    "abc['winning_perc'] = round((abc['bids_won'] / abc['bids placed']) * 100, 2)\n",
    "abc"
   ],
   "id": "c64d69a34254192b",
   "outputs": [
    {
     "data": {
      "text/plain": [
       "    month  bids_won  bids placed  winning_perc\n",
       "0       1     28488        45202         63.02\n",
       "1       9     26535        40421         65.65\n",
       "2       7     24725        37053         66.73\n",
       "3       6     23271        34853         66.77\n",
       "4       5     28433        46429         61.24\n",
       "5       3     29685        47034         63.11\n",
       "6       2     28351        45382         62.47\n",
       "7      11     27057        42043         64.36\n",
       "8      12     27353        43037         63.56\n",
       "9       8     26284        39332         66.83\n",
       "10      4     29907        47802         62.56\n",
       "11     10     28085        42365         66.29"
      ],
      "text/html": [
       "<div>\n",
       "<style scoped>\n",
       "    .dataframe tbody tr th:only-of-type {\n",
       "        vertical-align: middle;\n",
       "    }\n",
       "\n",
       "    .dataframe tbody tr th {\n",
       "        vertical-align: top;\n",
       "    }\n",
       "\n",
       "    .dataframe thead th {\n",
       "        text-align: right;\n",
       "    }\n",
       "</style>\n",
       "<table border=\"1\" class=\"dataframe\">\n",
       "  <thead>\n",
       "    <tr style=\"text-align: right;\">\n",
       "      <th></th>\n",
       "      <th>month</th>\n",
       "      <th>bids_won</th>\n",
       "      <th>bids placed</th>\n",
       "      <th>winning_perc</th>\n",
       "    </tr>\n",
       "  </thead>\n",
       "  <tbody>\n",
       "    <tr>\n",
       "      <th>0</th>\n",
       "      <td>1</td>\n",
       "      <td>28488</td>\n",
       "      <td>45202</td>\n",
       "      <td>63.02</td>\n",
       "    </tr>\n",
       "    <tr>\n",
       "      <th>1</th>\n",
       "      <td>9</td>\n",
       "      <td>26535</td>\n",
       "      <td>40421</td>\n",
       "      <td>65.65</td>\n",
       "    </tr>\n",
       "    <tr>\n",
       "      <th>2</th>\n",
       "      <td>7</td>\n",
       "      <td>24725</td>\n",
       "      <td>37053</td>\n",
       "      <td>66.73</td>\n",
       "    </tr>\n",
       "    <tr>\n",
       "      <th>3</th>\n",
       "      <td>6</td>\n",
       "      <td>23271</td>\n",
       "      <td>34853</td>\n",
       "      <td>66.77</td>\n",
       "    </tr>\n",
       "    <tr>\n",
       "      <th>4</th>\n",
       "      <td>5</td>\n",
       "      <td>28433</td>\n",
       "      <td>46429</td>\n",
       "      <td>61.24</td>\n",
       "    </tr>\n",
       "    <tr>\n",
       "      <th>5</th>\n",
       "      <td>3</td>\n",
       "      <td>29685</td>\n",
       "      <td>47034</td>\n",
       "      <td>63.11</td>\n",
       "    </tr>\n",
       "    <tr>\n",
       "      <th>6</th>\n",
       "      <td>2</td>\n",
       "      <td>28351</td>\n",
       "      <td>45382</td>\n",
       "      <td>62.47</td>\n",
       "    </tr>\n",
       "    <tr>\n",
       "      <th>7</th>\n",
       "      <td>11</td>\n",
       "      <td>27057</td>\n",
       "      <td>42043</td>\n",
       "      <td>64.36</td>\n",
       "    </tr>\n",
       "    <tr>\n",
       "      <th>8</th>\n",
       "      <td>12</td>\n",
       "      <td>27353</td>\n",
       "      <td>43037</td>\n",
       "      <td>63.56</td>\n",
       "    </tr>\n",
       "    <tr>\n",
       "      <th>9</th>\n",
       "      <td>8</td>\n",
       "      <td>26284</td>\n",
       "      <td>39332</td>\n",
       "      <td>66.83</td>\n",
       "    </tr>\n",
       "    <tr>\n",
       "      <th>10</th>\n",
       "      <td>4</td>\n",
       "      <td>29907</td>\n",
       "      <td>47802</td>\n",
       "      <td>62.56</td>\n",
       "    </tr>\n",
       "    <tr>\n",
       "      <th>11</th>\n",
       "      <td>10</td>\n",
       "      <td>28085</td>\n",
       "      <td>42365</td>\n",
       "      <td>66.29</td>\n",
       "    </tr>\n",
       "  </tbody>\n",
       "</table>\n",
       "</div>"
      ]
     },
     "execution_count": 200,
     "metadata": {},
     "output_type": "execute_result"
    }
   ],
   "execution_count": 200
  },
  {
   "metadata": {},
   "cell_type": "markdown",
   "source": [
    "### Q9. Out of the 17k PMs who bid but did not win in the last 6 months:\n",
    "\n",
    "* 1. Divide them into 3 buckets: bid less than 5 lots, between 5-10 lots, greater than 10 lots"
   ],
   "id": "e65572bcdb9507a4"
  },
  {
   "metadata": {
    "ExecuteTime": {
     "end_time": "2025-06-18T18:15:29.956030Z",
     "start_time": "2025-06-18T18:11:46.263357Z"
    }
   },
   "cell_type": "code",
   "source": [
    "query9 = \"\"\"\n",
    "WITH winners AS --- winning PMs in the last 6 months\n",
    "         (\n",
    "  SELECT DISTINCT m.owner_mbr_nbr\n",
    "  FROM `cprtpr-dataplatform-sp1`.usviews.v_us_member_fact m\n",
    "  JOIN `cprtpr-dataplatform-sp1`.usviews.v_us_lot_fact l\n",
    "    ON m.owner_mbr_nbr = l.owner_buyer_nbr\n",
    "  WHERE l.inv_dt IS NOT NULL\n",
    "    AND l.inv_dt BETWEEN '2024-12-01' AND '2025-05-31'\n",
    "    AND m.mbr_mbrshp_type_cd = 'PREMIER'\n",
    ")\n",
    "SELECT\n",
    "  m.owner_mbr_nbr,\n",
    "  l.lot_nbr,\n",
    "  m.member_sgmnt_type,\n",
    "  m.mbr_country_desc\n",
    "FROM `cprtpr-dataplatform-sp1`.usviews.v_us_bids_fact b\n",
    "JOIN `cprtpr-dataplatform-sp1`.usviews.v_us_member_fact m\n",
    "  ON b.buyer_nbr = m.mbr_nbr\n",
    "JOIN `cprtpr-dataplatform-sp1`.usviews.v_us_lot_fact l\n",
    "  ON b.lot_nbr = l.lot_nbr\n",
    "WHERE l.inv_dt IS NOT NULL\n",
    "  AND l.inv_dt BETWEEN '2024-12-01' AND '2025-05-31'\n",
    "  AND m.mbr_mbrshp_type_cd = 'PREMIER'\n",
    "  AND m.owner_mbr_nbr NOT IN  --- exclude winning PMs from all to get losing PMs\n",
    "      (SELECT owner_mbr_nbr FROM winners)\n",
    "\"\"\"\n",
    "\n",
    "data_PMs_lots_bid_no_win_6months = client.query(query9).to_dataframe()"
   ],
   "id": "46a927f2b5ca9fa8",
   "outputs": [],
   "execution_count": 233
  },
  {
   "metadata": {
    "ExecuteTime": {
     "end_time": "2025-06-18T18:15:42.581085Z",
     "start_time": "2025-06-18T18:15:42.576391Z"
    }
   },
   "cell_type": "code",
   "source": "data_PMs_lots_bid_no_win_6months",
   "id": "413d3bde95df6a03",
   "outputs": [
    {
     "data": {
      "text/plain": [
       "         owner_mbr_nbr   lot_nbr member_sgmnt_type mbr_country_desc\n",
       "0               408273  45671135          Consumer    UNITED STATES\n",
       "1                65348  69409604            Dealer    UNITED STATES\n",
       "2               307772  45602105          Consumer    UNITED STATES\n",
       "3                 7017  72953774          Consumer    UNITED STATES\n",
       "4               664158  44569975          Consumer    UNITED STATES\n",
       "...                ...       ...               ...              ...\n",
       "1860660         909615  52255915            Dealer    UNITED STATES\n",
       "1860661         909615  52713945            Dealer    UNITED STATES\n",
       "1860662         909615  50518435            Dealer    UNITED STATES\n",
       "1860663         909615  50518435            Dealer    UNITED STATES\n",
       "1860664         909615  50552305            Dealer    UNITED STATES\n",
       "\n",
       "[1860665 rows x 4 columns]"
      ],
      "text/html": [
       "<div>\n",
       "<style scoped>\n",
       "    .dataframe tbody tr th:only-of-type {\n",
       "        vertical-align: middle;\n",
       "    }\n",
       "\n",
       "    .dataframe tbody tr th {\n",
       "        vertical-align: top;\n",
       "    }\n",
       "\n",
       "    .dataframe thead th {\n",
       "        text-align: right;\n",
       "    }\n",
       "</style>\n",
       "<table border=\"1\" class=\"dataframe\">\n",
       "  <thead>\n",
       "    <tr style=\"text-align: right;\">\n",
       "      <th></th>\n",
       "      <th>owner_mbr_nbr</th>\n",
       "      <th>lot_nbr</th>\n",
       "      <th>member_sgmnt_type</th>\n",
       "      <th>mbr_country_desc</th>\n",
       "    </tr>\n",
       "  </thead>\n",
       "  <tbody>\n",
       "    <tr>\n",
       "      <th>0</th>\n",
       "      <td>408273</td>\n",
       "      <td>45671135</td>\n",
       "      <td>Consumer</td>\n",
       "      <td>UNITED STATES</td>\n",
       "    </tr>\n",
       "    <tr>\n",
       "      <th>1</th>\n",
       "      <td>65348</td>\n",
       "      <td>69409604</td>\n",
       "      <td>Dealer</td>\n",
       "      <td>UNITED STATES</td>\n",
       "    </tr>\n",
       "    <tr>\n",
       "      <th>2</th>\n",
       "      <td>307772</td>\n",
       "      <td>45602105</td>\n",
       "      <td>Consumer</td>\n",
       "      <td>UNITED STATES</td>\n",
       "    </tr>\n",
       "    <tr>\n",
       "      <th>3</th>\n",
       "      <td>7017</td>\n",
       "      <td>72953774</td>\n",
       "      <td>Consumer</td>\n",
       "      <td>UNITED STATES</td>\n",
       "    </tr>\n",
       "    <tr>\n",
       "      <th>4</th>\n",
       "      <td>664158</td>\n",
       "      <td>44569975</td>\n",
       "      <td>Consumer</td>\n",
       "      <td>UNITED STATES</td>\n",
       "    </tr>\n",
       "    <tr>\n",
       "      <th>...</th>\n",
       "      <td>...</td>\n",
       "      <td>...</td>\n",
       "      <td>...</td>\n",
       "      <td>...</td>\n",
       "    </tr>\n",
       "    <tr>\n",
       "      <th>1860660</th>\n",
       "      <td>909615</td>\n",
       "      <td>52255915</td>\n",
       "      <td>Dealer</td>\n",
       "      <td>UNITED STATES</td>\n",
       "    </tr>\n",
       "    <tr>\n",
       "      <th>1860661</th>\n",
       "      <td>909615</td>\n",
       "      <td>52713945</td>\n",
       "      <td>Dealer</td>\n",
       "      <td>UNITED STATES</td>\n",
       "    </tr>\n",
       "    <tr>\n",
       "      <th>1860662</th>\n",
       "      <td>909615</td>\n",
       "      <td>50518435</td>\n",
       "      <td>Dealer</td>\n",
       "      <td>UNITED STATES</td>\n",
       "    </tr>\n",
       "    <tr>\n",
       "      <th>1860663</th>\n",
       "      <td>909615</td>\n",
       "      <td>50518435</td>\n",
       "      <td>Dealer</td>\n",
       "      <td>UNITED STATES</td>\n",
       "    </tr>\n",
       "    <tr>\n",
       "      <th>1860664</th>\n",
       "      <td>909615</td>\n",
       "      <td>50552305</td>\n",
       "      <td>Dealer</td>\n",
       "      <td>UNITED STATES</td>\n",
       "    </tr>\n",
       "  </tbody>\n",
       "</table>\n",
       "<p>1860665 rows × 4 columns</p>\n",
       "</div>"
      ]
     },
     "execution_count": 234,
     "metadata": {},
     "output_type": "execute_result"
    }
   ],
   "execution_count": 234
  },
  {
   "metadata": {
    "ExecuteTime": {
     "end_time": "2025-06-18T18:34:35.003509Z",
     "start_time": "2025-06-18T18:34:34.949251Z"
    }
   },
   "cell_type": "code",
   "source": [
    "abc = data_PMs_lots_bid_no_win_6months.groupby('owner_mbr_nbr')['lot_nbr'].nunique()\n",
    "abc_df = abc.reset_index().rename(columns={'lot_nbr': 'unique_lots_bid'})"
   ],
   "id": "c027a50259dd939c",
   "outputs": [],
   "execution_count": 253
  },
  {
   "metadata": {
    "ExecuteTime": {
     "end_time": "2025-06-18T18:34:41.621268Z",
     "start_time": "2025-06-18T18:34:41.617099Z"
    }
   },
   "cell_type": "code",
   "source": "abc_df",
   "id": "ba4b1ec397f7bba6",
   "outputs": [
    {
     "data": {
      "text/plain": [
       "       owner_mbr_nbr  unique_lots_bid\n",
       "0                 41                4\n",
       "1                255               15\n",
       "2                311                2\n",
       "3                314                2\n",
       "4                452                3\n",
       "...              ...              ...\n",
       "17242         996200               40\n",
       "17243         997061                8\n",
       "17244         999222                4\n",
       "17245         999489               21\n",
       "17246         999993               31\n",
       "\n",
       "[17247 rows x 2 columns]"
      ],
      "text/html": [
       "<div>\n",
       "<style scoped>\n",
       "    .dataframe tbody tr th:only-of-type {\n",
       "        vertical-align: middle;\n",
       "    }\n",
       "\n",
       "    .dataframe tbody tr th {\n",
       "        vertical-align: top;\n",
       "    }\n",
       "\n",
       "    .dataframe thead th {\n",
       "        text-align: right;\n",
       "    }\n",
       "</style>\n",
       "<table border=\"1\" class=\"dataframe\">\n",
       "  <thead>\n",
       "    <tr style=\"text-align: right;\">\n",
       "      <th></th>\n",
       "      <th>owner_mbr_nbr</th>\n",
       "      <th>unique_lots_bid</th>\n",
       "    </tr>\n",
       "  </thead>\n",
       "  <tbody>\n",
       "    <tr>\n",
       "      <th>0</th>\n",
       "      <td>41</td>\n",
       "      <td>4</td>\n",
       "    </tr>\n",
       "    <tr>\n",
       "      <th>1</th>\n",
       "      <td>255</td>\n",
       "      <td>15</td>\n",
       "    </tr>\n",
       "    <tr>\n",
       "      <th>2</th>\n",
       "      <td>311</td>\n",
       "      <td>2</td>\n",
       "    </tr>\n",
       "    <tr>\n",
       "      <th>3</th>\n",
       "      <td>314</td>\n",
       "      <td>2</td>\n",
       "    </tr>\n",
       "    <tr>\n",
       "      <th>4</th>\n",
       "      <td>452</td>\n",
       "      <td>3</td>\n",
       "    </tr>\n",
       "    <tr>\n",
       "      <th>...</th>\n",
       "      <td>...</td>\n",
       "      <td>...</td>\n",
       "    </tr>\n",
       "    <tr>\n",
       "      <th>17242</th>\n",
       "      <td>996200</td>\n",
       "      <td>40</td>\n",
       "    </tr>\n",
       "    <tr>\n",
       "      <th>17243</th>\n",
       "      <td>997061</td>\n",
       "      <td>8</td>\n",
       "    </tr>\n",
       "    <tr>\n",
       "      <th>17244</th>\n",
       "      <td>999222</td>\n",
       "      <td>4</td>\n",
       "    </tr>\n",
       "    <tr>\n",
       "      <th>17245</th>\n",
       "      <td>999489</td>\n",
       "      <td>21</td>\n",
       "    </tr>\n",
       "    <tr>\n",
       "      <th>17246</th>\n",
       "      <td>999993</td>\n",
       "      <td>31</td>\n",
       "    </tr>\n",
       "  </tbody>\n",
       "</table>\n",
       "<p>17247 rows × 2 columns</p>\n",
       "</div>"
      ]
     },
     "execution_count": 254,
     "metadata": {},
     "output_type": "execute_result"
    }
   ],
   "execution_count": 254
  },
  {
   "metadata": {
    "ExecuteTime": {
     "end_time": "2025-06-18T18:35:13.185426Z",
     "start_time": "2025-06-18T18:35:13.181067Z"
    }
   },
   "cell_type": "code",
   "source": [
    "## Diving the data into 3 buckets based on the number of lots bid\n",
    "\n",
    "bins = [0, 5, 11, float('inf')]\n",
    "labels = ['<5', '5-10', '>10']\n",
    "\n",
    "abc_df['lot_bin'] = pd.cut(\n",
    "    abc_df['unique_lots_bid'], bins=bins, right=False, labels=labels\n",
    ")\n",
    "\n",
    "bin_counts = abc_df['lot_bin'].value_counts().sort_index()\n",
    "print(bin_counts)"
   ],
   "id": "7870d3b1a1ba9afd",
   "outputs": [
    {
     "name": "stdout",
     "output_type": "stream",
     "text": [
      "lot_bin\n",
      "<5      10167\n",
      "5-10     3547\n",
      ">10      3533\n",
      "Name: count, dtype: int64\n"
     ]
    }
   ],
   "execution_count": 256
  },
  {
   "metadata": {
    "ExecuteTime": {
     "end_time": "2025-06-18T18:35:35.455404Z",
     "start_time": "2025-06-18T18:35:35.410618Z"
    }
   },
   "cell_type": "code",
   "source": [
    "ax = bin_counts.plot(\n",
    "    kind='bar', figsize=(8, 6), title='Distribution of PMs that bid on the lots sold in the last 6 months but did not win.')\n",
    "ax.set_xticklabels(ax.get_xticklabels(), rotation=0)"
   ],
   "id": "9a17b61ee4ee7a3",
   "outputs": [
    {
     "data": {
      "text/plain": [
       "[Text(0, 0, '<5'), Text(1, 0, '5-10'), Text(2, 0, '>10')]"
      ]
     },
     "execution_count": 257,
     "metadata": {},
     "output_type": "execute_result"
    },
    {
     "data": {
      "text/plain": [
       "<Figure size 800x600 with 1 Axes>"
      ],
      "image/png": "[encoded data removed]"
     },
     "metadata": {},
     "output_type": "display_data"
    }
   ],
   "execution_count": 257
  },
  {
   "metadata": {},
   "cell_type": "markdown",
   "source": "* 2. Distribution over segment type of 17k PMs",
   "id": "420c18b9f15322ec"
  },
  {
   "metadata": {
    "ExecuteTime": {
     "end_time": "2025-06-18T18:17:27.359825Z",
     "start_time": "2025-06-18T18:17:27.287490Z"
    }
   },
   "cell_type": "code",
   "source": "data_PMs_lots_bid_no_win_6months.groupby('member_sgmnt_type')['owner_mbr_nbr'].nunique().sort_values(ascending=False)",
   "id": "e64fed49c552278f",
   "outputs": [
    {
     "data": {
      "text/plain": [
       "member_sgmnt_type\n",
       "Consumer            10349\n",
       "Dealer               2843\n",
       "Exporter             2799\n",
       "General Business      718\n",
       "Dismantler            505\n",
       "Name: owner_mbr_nbr, dtype: int64"
      ]
     },
     "execution_count": 240,
     "metadata": {},
     "output_type": "execute_result"
    }
   ],
   "execution_count": 240
  },
  {
   "metadata": {
    "ExecuteTime": {
     "end_time": "2025-06-18T18:18:12.774229Z",
     "start_time": "2025-06-18T18:18:12.679704Z"
    }
   },
   "cell_type": "code",
   "source": [
    "ax = data_PMs_lots_bid_no_win_6months.groupby('member_sgmnt_type')['owner_mbr_nbr'].nunique().sort_values(ascending=False).plot(kind='bar')\n",
    "ax.set_xticklabels(ax.get_xticklabels(), rotation=45)\n",
    "plt.show()"
   ],
   "id": "cb3816cb4ea62d64",
   "outputs": [
    {
     "data": {
      "text/plain": [
       "[Text(0, 0, 'Consumer'),\n",
       " Text(1, 0, 'Dealer'),\n",
       " Text(2, 0, 'Exporter'),\n",
       " Text(3, 0, 'General Business'),\n",
       " Text(4, 0, 'Dismantler')]"
      ]
     },
     "execution_count": 244,
     "metadata": {},
     "output_type": "execute_result"
    },
    {
     "data": {
      "text/plain": [
       "<Figure size 640x480 with 1 Axes>"
      ],
      "image/png": "[encoded data removed]"
     },
     "metadata": {},
     "output_type": "display_data"
    }
   ],
   "execution_count": 244
  },
  {
   "metadata": {},
   "cell_type": "markdown",
   "source": "* 3. Distribution of segment type over segment type of 17k PMs",
   "id": "abb8fa4e2eb37b91"
  },
  {
   "metadata": {
    "ExecuteTime": {
     "end_time": "2025-06-18T18:52:22.605400Z",
     "start_time": "2025-06-18T18:52:22.499189Z"
    }
   },
   "cell_type": "code",
   "source": [
    "import pandas as pd\n",
    "\n",
    "# Step 1: Count unique lots per member within segment\n",
    "abc = data_PMs_lots_bid_no_win_6months.groupby(['member_sgmnt_type', 'owner_mbr_nbr'])['lot_nbr'].nunique().reset_index()\n",
    "abc.rename(columns={'lot_nbr': 'unique_lots_bid'}, inplace=True)\n",
    "\n",
    "# Step 2: Bin each member based on their bid count\n",
    "bins = [0, 5, 10, float('inf')]\n",
    "labels = ['<5', '5-10', '>10']\n",
    "abc['lot_bin'] = pd.cut(abc['unique_lots_bid'], bins=bins, labels=labels, right=True)\n",
    "\n",
    "# Step 3: Count members in each bin per segment type\n",
    "result = abc.groupby(['member_sgmnt_type', 'lot_bin']).size().reset_index(name='member_count')\n",
    "\n",
    "print(result)\n"
   ],
   "id": "9e654412f11ba6c6",
   "outputs": [
    {
     "name": "stdout",
     "output_type": "stream",
     "text": [
      "   member_sgmnt_type lot_bin  member_count\n",
      "0           Consumer      <5          6692\n",
      "1           Consumer    5-10          1541\n",
      "2           Consumer     >10          2116\n",
      "3             Dealer      <5          1890\n",
      "4             Dealer    5-10           460\n",
      "5             Dealer     >10           493\n",
      "6         Dismantler      <5           335\n",
      "7         Dismantler    5-10            64\n",
      "8         Dismantler     >10           106\n",
      "9           Exporter      <5          1692\n",
      "10          Exporter    5-10           445\n",
      "11          Exporter     >10           662\n",
      "12  General Business      <5           483\n",
      "13  General Business    5-10           111\n",
      "14  General Business     >10           124\n"
     ]
    }
   ],
   "execution_count": 265
  },
  {
   "metadata": {
    "ExecuteTime": {
     "end_time": "2025-06-18T19:01:28.830662Z",
     "start_time": "2025-06-18T19:01:28.575421Z"
    }
   },
   "cell_type": "code",
   "source": [
    "import pandas as pd\n",
    "import matplotlib.pyplot as plt\n",
    "\n",
    "# Step 1: Group by member and count unique lots bid\n",
    "abc = data_PMs_lots_bid_no_win_6months.groupby(['owner_mbr_nbr', 'member_sgmnt_type'])['lot_nbr'].nunique().reset_index()\n",
    "abc.rename(columns={'lot_nbr': 'unique_lots_bid'}, inplace=True)\n",
    "\n",
    "# Step 2: Bin the bid counts\n",
    "bins = [0, 5, 10, float('inf')]\n",
    "labels = ['<5', '5-10', '>10']\n",
    "abc['bid_bucket'] = pd.cut(abc['unique_lots_bid'], bins=bins, labels=labels, right=True)\n",
    "\n",
    "# Step 3: Group by segment and bid bucket\n",
    "grouped = abc.groupby(['member_sgmnt_type', 'bid_bucket']).size().unstack(fill_value=0)\n",
    "\n",
    "# Step 4: Plot 3 + 2 layout\n",
    "segments = grouped.index.tolist()\n",
    "fig, axes = plt.subplots(nrows=2, ncols=3, figsize=(18, 8))  # 2 rows, 3 columns\n",
    "\n",
    "for i, segment in enumerate(segments):\n",
    "    row = i // 3\n",
    "    col = i % 3\n",
    "    ax = axes[row, col]\n",
    "    grouped.loc[segment].plot(kind='bar', ax=ax)\n",
    "    ax.set_title(f'Segment: {segment}')\n",
    "    ax.set_xlabel('Bid Count Bucket')\n",
    "    ax.set_ylabel('Member Count')\n",
    "    ax.tick_params(axis='x', rotation=45)\n",
    "\n",
    "# Turn off the unused 6th plot (bottom-right)\n",
    "if len(segments) < 6:\n",
    "    axes[1, 2].axis('off')\n",
    "\n",
    "plt.tight_layout()\n",
    "plt.show()"
   ],
   "id": "e5221ce78fd8a76a",
   "outputs": [
    {
     "data": {
      "text/plain": [
       "<Axes: xlabel='bid_bucket'>"
      ]
     },
     "execution_count": 276,
     "metadata": {},
     "output_type": "execute_result"
    },
    {
     "data": {
      "text/plain": [
       "Text(0.5, 1.0, 'Segment: Consumer')"
      ]
     },
     "execution_count": 276,
     "metadata": {},
     "output_type": "execute_result"
    },
    {
     "data": {
      "text/plain": [
       "Text(0.5, 0, 'Bid Count Bucket')"
      ]
     },
     "execution_count": 276,
     "metadata": {},
     "output_type": "execute_result"
    },
    {
     "data": {
      "text/plain": [
       "Text(0, 0.5, 'Member Count')"
      ]
     },
     "execution_count": 276,
     "metadata": {},
     "output_type": "execute_result"
    },
    {
     "data": {
      "text/plain": [
       "<Axes: xlabel='bid_bucket'>"
      ]
     },
     "execution_count": 276,
     "metadata": {},
     "output_type": "execute_result"
    },
    {
     "data": {
      "text/plain": [
       "Text(0.5, 1.0, 'Segment: Dealer')"
      ]
     },
     "execution_count": 276,
     "metadata": {},
     "output_type": "execute_result"
    },
    {
     "data": {
      "text/plain": [
       "Text(0.5, 0, 'Bid Count Bucket')"
      ]
     },
     "execution_count": 276,
     "metadata": {},
     "output_type": "execute_result"
    },
    {
     "data": {
      "text/plain": [
       "Text(0, 0.5, 'Member Count')"
      ]
     },
     "execution_count": 276,
     "metadata": {},
     "output_type": "execute_result"
    },
    {
     "data": {
      "text/plain": [
       "<Axes: xlabel='bid_bucket'>"
      ]
     },
     "execution_count": 276,
     "metadata": {},
     "output_type": "execute_result"
    },
    {
     "data": {
      "text/plain": [
       "Text(0.5, 1.0, 'Segment: Dismantler')"
      ]
     },
     "execution_count": 276,
     "metadata": {},
     "output_type": "execute_result"
    },
    {
     "data": {
      "text/plain": [
       "Text(0.5, 0, 'Bid Count Bucket')"
      ]
     },
     "execution_count": 276,
     "metadata": {},
     "output_type": "execute_result"
    },
    {
     "data": {
      "text/plain": [
       "Text(0, 0.5, 'Member Count')"
      ]
     },
     "execution_count": 276,
     "metadata": {},
     "output_type": "execute_result"
    },
    {
     "data": {
      "text/plain": [
       "<Axes: xlabel='bid_bucket'>"
      ]
     },
     "execution_count": 276,
     "metadata": {},
     "output_type": "execute_result"
    },
    {
     "data": {
      "text/plain": [
       "Text(0.5, 1.0, 'Segment: Exporter')"
      ]
     },
     "execution_count": 276,
     "metadata": {},
     "output_type": "execute_result"
    },
    {
     "data": {
      "text/plain": [
       "Text(0.5, 0, 'Bid Count Bucket')"
      ]
     },
     "execution_count": 276,
     "metadata": {},
     "output_type": "execute_result"
    },
    {
     "data": {
      "text/plain": [
       "Text(0, 0.5, 'Member Count')"
      ]
     },
     "execution_count": 276,
     "metadata": {},
     "output_type": "execute_result"
    },
    {
     "data": {
      "text/plain": [
       "<Axes: xlabel='bid_bucket'>"
      ]
     },
     "execution_count": 276,
     "metadata": {},
     "output_type": "execute_result"
    },
    {
     "data": {
      "text/plain": [
       "Text(0.5, 1.0, 'Segment: General Business')"
      ]
     },
     "execution_count": 276,
     "metadata": {},
     "output_type": "execute_result"
    },
    {
     "data": {
      "text/plain": [
       "Text(0.5, 0, 'Bid Count Bucket')"
      ]
     },
     "execution_count": 276,
     "metadata": {},
     "output_type": "execute_result"
    },
    {
     "data": {
      "text/plain": [
       "Text(0, 0.5, 'Member Count')"
      ]
     },
     "execution_count": 276,
     "metadata": {},
     "output_type": "execute_result"
    },
    {
     "data": {
      "text/plain": [
       "(np.float64(0.0), np.float64(1.0), np.float64(0.0), np.float64(1.0))"
      ]
     },
     "execution_count": 276,
     "metadata": {},
     "output_type": "execute_result"
    },
    {
     "data": {
      "text/plain": [
       "<Figure size 1800x800 with 6 Axes>"
      ],
      "image/png": "[encoded data removed]"
     },
     "metadata": {},
     "output_type": "display_data"
    }
   ],
   "execution_count": 276
  },
  {
   "metadata": {},
   "cell_type": "markdown",
   "source": "* 4. Distribution over country of 17k PMs",
   "id": "18abaf9da4116040"
  },
  {
   "metadata": {
    "ExecuteTime": {
     "end_time": "2025-06-18T18:41:55.496539Z",
     "start_time": "2025-06-18T18:41:55.418881Z"
    }
   },
   "cell_type": "code",
   "source": "data_PMs_lots_bid_no_win_6months.groupby('mbr_country_desc')['owner_mbr_nbr'].nunique().sort_values(ascending=False).head(10)",
   "id": "823877b19763cbc7",
   "outputs": [
    {
     "data": {
      "text/plain": [
       "mbr_country_desc\n",
       "UNITED STATES           14449\n",
       "CANADA                    849\n",
       "MEXICO                    428\n",
       "NIGERIA                   189\n",
       "GUATEMALA                 183\n",
       "UNITED ARAB EMIRATES      158\n",
       "HONDURAS                   96\n",
       "GHANA,REPUBLIC OF          80\n",
       "EL SALVADOR                72\n",
       "BAHAMAS                    68\n",
       "Name: owner_mbr_nbr, dtype: int64"
      ]
     },
     "execution_count": 262,
     "metadata": {},
     "output_type": "execute_result"
    }
   ],
   "execution_count": 262
  },
  {
   "metadata": {
    "ExecuteTime": {
     "end_time": "2025-06-18T18:41:36.568687Z",
     "start_time": "2025-06-18T18:41:36.538118Z"
    }
   },
   "cell_type": "code",
   "source": "data_PMs_lots_bid_no_win_6months['mbr_country_desc'].value_counts(normalize=True).head(10)",
   "id": "da04d3045718da1b",
   "outputs": [
    {
     "data": {
      "text/plain": [
       "mbr_country_desc\n",
       "UNITED STATES           0.873745\n",
       "CANADA                  0.036047\n",
       "MEXICO                  0.013933\n",
       "UNITED ARAB EMIRATES    0.011989\n",
       "NIGERIA                 0.011661\n",
       "BENIN                   0.007146\n",
       "GUATEMALA               0.005528\n",
       "GHANA,REPUBLIC OF       0.004895\n",
       "POLAND                  0.003510\n",
       "PANAMA                  0.003496\n",
       "Name: proportion, dtype: float64"
      ]
     },
     "execution_count": 260,
     "metadata": {},
     "output_type": "execute_result"
    }
   ],
   "execution_count": 260
  }
 ],
 "metadata": {
  "kernelspec": {
   "display_name": "Python 3",
   "language": "python",
   "name": "python3"
  },
  "language_info": {
   "codemirror_mode": {
    "name": "ipython",
    "version": 2
   },
   "file_extension": ".py",
   "mimetype": "text/x-python",
   "name": "python",
   "nbconvert_exporter": "python",
   "pygments_lexer": "ipython2",
   "version": "2.7.6"
  }
 },
 "nbformat": 4,
 "nbformat_minor": 5
}
